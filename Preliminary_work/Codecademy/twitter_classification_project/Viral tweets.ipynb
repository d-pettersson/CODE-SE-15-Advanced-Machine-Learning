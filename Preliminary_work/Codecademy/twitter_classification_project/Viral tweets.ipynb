{
 "cells": [
  {
   "cell_type": "markdown",
   "metadata": {},
   "source": [
    "# Viral tweets\n",
    "\n",
    "Using a K-Nearest Neighbor algorithm to predict if a tweet will go viral."
   ]
  },
  {
   "cell_type": "code",
   "execution_count": 96,
   "metadata": {},
   "outputs": [],
   "source": [
    "import pandas as pd\n",
    "import numpy as np\n",
    "import plotly.graph_objects as go\n",
    "\n",
    "from sklearn.preprocessing import scale\n",
    "from sklearn.model_selection import train_test_split\n",
    "from sklearn.neighbors import KNeighborsClassifier"
   ]
  },
  {
   "cell_type": "code",
   "execution_count": 97,
   "metadata": {},
   "outputs": [],
   "source": [
    "all_tweets = pd.read_json('random_tweets.json', lines=True)"
   ]
  },
  {
   "cell_type": "code",
   "execution_count": 98,
   "metadata": {},
   "outputs": [
    {
     "data": {
      "text/plain": [
       "11099"
      ]
     },
     "execution_count": 98,
     "metadata": {},
     "output_type": "execute_result"
    }
   ],
   "source": [
    "len(all_tweets)"
   ]
  },
  {
   "cell_type": "code",
   "execution_count": 99,
   "metadata": {},
   "outputs": [
    {
     "data": {
      "text/plain": [
       "Index(['created_at', 'id', 'id_str', 'text', 'truncated', 'entities',\n",
       "       'metadata', 'source', 'in_reply_to_status_id',\n",
       "       'in_reply_to_status_id_str', 'in_reply_to_user_id',\n",
       "       'in_reply_to_user_id_str', 'in_reply_to_screen_name', 'user', 'geo',\n",
       "       'coordinates', 'place', 'contributors', 'retweeted_status',\n",
       "       'is_quote_status', 'retweet_count', 'favorite_count', 'favorited',\n",
       "       'retweeted', 'lang', 'possibly_sensitive', 'quoted_status_id',\n",
       "       'quoted_status_id_str', 'extended_entities', 'quoted_status',\n",
       "       'withheld_in_countries'],\n",
       "      dtype='object')"
      ]
     },
     "execution_count": 99,
     "metadata": {},
     "output_type": "execute_result"
    }
   ],
   "source": [
    "all_tweets.columns"
   ]
  },
  {
   "cell_type": "code",
   "execution_count": 100,
   "metadata": {},
   "outputs": [
    {
     "data": {
      "text/plain": [
       "{'id': 145388018,\n",
       " 'id_str': '145388018',\n",
       " 'name': 'Derek Wolkenhauer',\n",
       " 'screen_name': 'derekw221',\n",
       " 'location': 'Waterloo, Iowa',\n",
       " 'description': '',\n",
       " 'url': None,\n",
       " 'entities': {'description': {'urls': []}},\n",
       " 'protected': False,\n",
       " 'followers_count': 215,\n",
       " 'friends_count': 335,\n",
       " 'listed_count': 2,\n",
       " 'created_at': 'Tue May 18 21:30:10 +0000 2010',\n",
       " 'favourites_count': 3419,\n",
       " 'utc_offset': None,\n",
       " 'time_zone': None,\n",
       " 'geo_enabled': True,\n",
       " 'verified': False,\n",
       " 'statuses_count': 4475,\n",
       " 'lang': 'en',\n",
       " 'contributors_enabled': False,\n",
       " 'is_translator': False,\n",
       " 'is_translation_enabled': False,\n",
       " 'profile_background_color': '022330',\n",
       " 'profile_background_image_url': 'http://abs.twimg.com/images/themes/theme15/bg.png',\n",
       " 'profile_background_image_url_https': 'https://abs.twimg.com/images/themes/theme15/bg.png',\n",
       " 'profile_background_tile': False,\n",
       " 'profile_image_url': 'http://pbs.twimg.com/profile_images/995790590276243456/cgxRVviN_normal.jpg',\n",
       " 'profile_image_url_https': 'https://pbs.twimg.com/profile_images/995790590276243456/cgxRVviN_normal.jpg',\n",
       " 'profile_banner_url': 'https://pbs.twimg.com/profile_banners/145388018/1494937921',\n",
       " 'profile_link_color': '0084B4',\n",
       " 'profile_sidebar_border_color': 'A8C7F7',\n",
       " 'profile_sidebar_fill_color': 'C0DFEC',\n",
       " 'profile_text_color': '333333',\n",
       " 'profile_use_background_image': True,\n",
       " 'has_extended_profile': True,\n",
       " 'default_profile': False,\n",
       " 'default_profile_image': False,\n",
       " 'following': False,\n",
       " 'follow_request_sent': False,\n",
       " 'notifications': False,\n",
       " 'translator_type': 'none'}"
      ]
     },
     "execution_count": 100,
     "metadata": {},
     "output_type": "execute_result"
    }
   ],
   "source": [
    "all_tweets.loc[0]['user']"
   ]
  },
  {
   "cell_type": "markdown",
   "metadata": {},
   "source": [
    "### How to define viral tweets\n",
    "\n",
    "For a K-Nearest Neighbor classification algorithm, we need a dataset with tagged labels. In this case, if we want to tag the tweet as viral, as there is no 'viral' label, we need to analyse the data, and find the feature(s) most likely to be linked to a viral status."
   ]
  },
  {
   "cell_type": "code",
   "execution_count": 101,
   "metadata": {},
   "outputs": [
    {
     "data": {
      "text/plain": [
       "count     11099.000000\n",
       "mean       2777.956392\n",
       "std       12180.169923\n",
       "min           0.000000\n",
       "25%           0.000000\n",
       "50%          13.000000\n",
       "75%         428.500000\n",
       "max      413719.000000\n",
       "Name: retweet_count, dtype: float64"
      ]
     },
     "execution_count": 101,
     "metadata": {},
     "output_type": "execute_result"
    }
   ],
   "source": [
    "all_tweets['retweet_count'].describe()"
   ]
  },
  {
   "cell_type": "code",
   "execution_count": 102,
   "metadata": {},
   "outputs": [
    {
     "data": {
      "text/plain": [
       "13.0"
      ]
     },
     "execution_count": 102,
     "metadata": {},
     "output_type": "execute_result"
    }
   ],
   "source": [
    "all_tweets['retweet_count'].median()"
   ]
  },
  {
   "cell_type": "code",
   "execution_count": 103,
   "metadata": {},
   "outputs": [],
   "source": [
    "all_tweets['viral_tweet'] = np.where(all_tweets['retweet_count'] > all_tweets['retweet_count'].median(), 1, 0)"
   ]
  },
  {
   "cell_type": "code",
   "execution_count": 104,
   "metadata": {},
   "outputs": [
    {
     "data": {
      "text/plain": [
       "0    5562\n",
       "1    5537\n",
       "Name: viral_tweet, dtype: int64"
      ]
     },
     "execution_count": 104,
     "metadata": {},
     "output_type": "execute_result"
    }
   ],
   "source": [
    "all_tweets['viral_tweet'].value_counts()"
   ]
  },
  {
   "cell_type": "code",
   "execution_count": 105,
   "metadata": {},
   "outputs": [
    {
     "data": {
      "text/html": [
       "<div>\n",
       "<style scoped>\n",
       "    .dataframe tbody tr th:only-of-type {\n",
       "        vertical-align: middle;\n",
       "    }\n",
       "\n",
       "    .dataframe tbody tr th {\n",
       "        vertical-align: top;\n",
       "    }\n",
       "\n",
       "    .dataframe thead th {\n",
       "        text-align: right;\n",
       "    }\n",
       "</style>\n",
       "<table border=\"1\" class=\"dataframe\">\n",
       "  <thead>\n",
       "    <tr style=\"text-align: right;\">\n",
       "      <th></th>\n",
       "      <th>text</th>\n",
       "      <th>retweet_count</th>\n",
       "      <th>viral_tweet</th>\n",
       "    </tr>\n",
       "  </thead>\n",
       "  <tbody>\n",
       "    <tr>\n",
       "      <td>0</td>\n",
       "      <td>RT @KWWLStormTrack7: We are more than a month ...</td>\n",
       "      <td>3</td>\n",
       "      <td>0</td>\n",
       "    </tr>\n",
       "    <tr>\n",
       "      <td>1</td>\n",
       "      <td>@hail_ee23 Thanks love its just the feeling of...</td>\n",
       "      <td>0</td>\n",
       "      <td>0</td>\n",
       "    </tr>\n",
       "    <tr>\n",
       "      <td>2</td>\n",
       "      <td>RT @TransMediaWatch: Pink News has more on the...</td>\n",
       "      <td>5</td>\n",
       "      <td>0</td>\n",
       "    </tr>\n",
       "    <tr>\n",
       "      <td>3</td>\n",
       "      <td>RT @realDonaldTrump: One of the reasons we nee...</td>\n",
       "      <td>11106</td>\n",
       "      <td>1</td>\n",
       "    </tr>\n",
       "    <tr>\n",
       "      <td>4</td>\n",
       "      <td>RT @First5App: This hearing of His Word doesn’...</td>\n",
       "      <td>6</td>\n",
       "      <td>0</td>\n",
       "    </tr>\n",
       "    <tr>\n",
       "      <td>5</td>\n",
       "      <td>RT @attackerman: This is torture: “The staff t...</td>\n",
       "      <td>195</td>\n",
       "      <td>1</td>\n",
       "    </tr>\n",
       "    <tr>\n",
       "      <td>6</td>\n",
       "      <td>Did a demo of our Mobile Prototyping Kit at UX...</td>\n",
       "      <td>0</td>\n",
       "      <td>0</td>\n",
       "    </tr>\n",
       "    <tr>\n",
       "      <td>7</td>\n",
       "      <td>RT @itstae13: Stop getting rid of your pets be...</td>\n",
       "      <td>162420</td>\n",
       "      <td>1</td>\n",
       "    </tr>\n",
       "    <tr>\n",
       "      <td>8</td>\n",
       "      <td>RT @RealErinCruz: Someone sent me a thought pr...</td>\n",
       "      <td>446</td>\n",
       "      <td>1</td>\n",
       "    </tr>\n",
       "    <tr>\n",
       "      <td>9</td>\n",
       "      <td>RT @penis_hernandez: when you ask how a white ...</td>\n",
       "      <td>14411</td>\n",
       "      <td>1</td>\n",
       "    </tr>\n",
       "  </tbody>\n",
       "</table>\n",
       "</div>"
      ],
      "text/plain": [
       "                                                text  retweet_count  \\\n",
       "0  RT @KWWLStormTrack7: We are more than a month ...              3   \n",
       "1  @hail_ee23 Thanks love its just the feeling of...              0   \n",
       "2  RT @TransMediaWatch: Pink News has more on the...              5   \n",
       "3  RT @realDonaldTrump: One of the reasons we nee...          11106   \n",
       "4  RT @First5App: This hearing of His Word doesn’...              6   \n",
       "5  RT @attackerman: This is torture: “The staff t...            195   \n",
       "6  Did a demo of our Mobile Prototyping Kit at UX...              0   \n",
       "7  RT @itstae13: Stop getting rid of your pets be...         162420   \n",
       "8  RT @RealErinCruz: Someone sent me a thought pr...            446   \n",
       "9  RT @penis_hernandez: when you ask how a white ...          14411   \n",
       "\n",
       "   viral_tweet  \n",
       "0            0  \n",
       "1            0  \n",
       "2            0  \n",
       "3            1  \n",
       "4            0  \n",
       "5            1  \n",
       "6            0  \n",
       "7            1  \n",
       "8            1  \n",
       "9            1  "
      ]
     },
     "execution_count": 105,
     "metadata": {},
     "output_type": "execute_result"
    }
   ],
   "source": [
    "all_tweets[['text', 'retweet_count', 'viral_tweet']].head(10)"
   ]
  },
  {
   "cell_type": "markdown",
   "metadata": {},
   "source": [
    "## Making features\n",
    "\n",
    "We cannot rely only on the number of retweet to define if a tweet is going to be viral. We need to find other features. After analysing the data, there are a couple of options we could use:\n",
    "- the followers_count\n",
    "- the friends_count"
   ]
  },
  {
   "cell_type": "code",
   "execution_count": 106,
   "metadata": {},
   "outputs": [],
   "source": [
    "all_tweets['followers_count'] = all_tweets.apply(lambda tweet: tweet['user']['followers_count'], axis=1)"
   ]
  },
  {
   "cell_type": "code",
   "execution_count": 107,
   "metadata": {},
   "outputs": [
    {
     "data": {
      "text/plain": [
       "0         215\n",
       "1         199\n",
       "2         196\n",
       "3        3313\n",
       "4         125\n",
       "         ... \n",
       "11094     509\n",
       "11095     462\n",
       "11096     135\n",
       "11097      59\n",
       "11098    1563\n",
       "Name: followers_count, Length: 11099, dtype: int64"
      ]
     },
     "execution_count": 107,
     "metadata": {},
     "output_type": "execute_result"
    }
   ],
   "source": [
    "all_tweets['followers_count']"
   ]
  },
  {
   "cell_type": "code",
   "execution_count": 108,
   "metadata": {},
   "outputs": [],
   "source": [
    "all_tweets['friends_count'] = all_tweets.apply(lambda tweet: tweet['user']['friends_count'], axis=1)"
   ]
  },
  {
   "cell_type": "code",
   "execution_count": 109,
   "metadata": {},
   "outputs": [
    {
     "data": {
      "text/plain": [
       "0         335\n",
       "1         203\n",
       "2         558\n",
       "3        2272\n",
       "4         273\n",
       "         ... \n",
       "11094    1323\n",
       "11095    1033\n",
       "11096      90\n",
       "11097     320\n",
       "11098    1697\n",
       "Name: friends_count, Length: 11099, dtype: int64"
      ]
     },
     "execution_count": 109,
     "metadata": {},
     "output_type": "execute_result"
    }
   ],
   "source": [
    "all_tweets['friends_count']"
   ]
  },
  {
   "cell_type": "code",
   "execution_count": 110,
   "metadata": {},
   "outputs": [],
   "source": [
    "all_tweets['tweet_length'] = all_tweets.apply(lambda tweet: len(tweet['text']), axis=1)"
   ]
  },
  {
   "cell_type": "code",
   "execution_count": 111,
   "metadata": {},
   "outputs": [
    {
     "data": {
      "text/plain": [
       "0        140\n",
       "1         77\n",
       "2        140\n",
       "3        140\n",
       "4        140\n",
       "        ... \n",
       "11094    140\n",
       "11095     75\n",
       "11096    140\n",
       "11097    140\n",
       "11098     75\n",
       "Name: tweet_length, Length: 11099, dtype: int64"
      ]
     },
     "execution_count": 111,
     "metadata": {},
     "output_type": "execute_result"
    }
   ],
   "source": [
    "all_tweets['tweet_length']"
   ]
  },
  {
   "cell_type": "code",
   "execution_count": 112,
   "metadata": {},
   "outputs": [
    {
     "data": {
      "text/html": [
       "<div>\n",
       "<style scoped>\n",
       "    .dataframe tbody tr th:only-of-type {\n",
       "        vertical-align: middle;\n",
       "    }\n",
       "\n",
       "    .dataframe tbody tr th {\n",
       "        vertical-align: top;\n",
       "    }\n",
       "\n",
       "    .dataframe thead th {\n",
       "        text-align: right;\n",
       "    }\n",
       "</style>\n",
       "<table border=\"1\" class=\"dataframe\">\n",
       "  <thead>\n",
       "    <tr style=\"text-align: right;\">\n",
       "      <th></th>\n",
       "      <th>tweet_length</th>\n",
       "      <th>followers_count</th>\n",
       "      <th>friends_count</th>\n",
       "    </tr>\n",
       "  </thead>\n",
       "  <tbody>\n",
       "    <tr>\n",
       "      <td>0</td>\n",
       "      <td>140</td>\n",
       "      <td>215</td>\n",
       "      <td>335</td>\n",
       "    </tr>\n",
       "    <tr>\n",
       "      <td>1</td>\n",
       "      <td>77</td>\n",
       "      <td>199</td>\n",
       "      <td>203</td>\n",
       "    </tr>\n",
       "    <tr>\n",
       "      <td>2</td>\n",
       "      <td>140</td>\n",
       "      <td>196</td>\n",
       "      <td>558</td>\n",
       "    </tr>\n",
       "    <tr>\n",
       "      <td>3</td>\n",
       "      <td>140</td>\n",
       "      <td>3313</td>\n",
       "      <td>2272</td>\n",
       "    </tr>\n",
       "    <tr>\n",
       "      <td>4</td>\n",
       "      <td>140</td>\n",
       "      <td>125</td>\n",
       "      <td>273</td>\n",
       "    </tr>\n",
       "    <tr>\n",
       "      <td>...</td>\n",
       "      <td>...</td>\n",
       "      <td>...</td>\n",
       "      <td>...</td>\n",
       "    </tr>\n",
       "    <tr>\n",
       "      <td>11094</td>\n",
       "      <td>140</td>\n",
       "      <td>509</td>\n",
       "      <td>1323</td>\n",
       "    </tr>\n",
       "    <tr>\n",
       "      <td>11095</td>\n",
       "      <td>75</td>\n",
       "      <td>462</td>\n",
       "      <td>1033</td>\n",
       "    </tr>\n",
       "    <tr>\n",
       "      <td>11096</td>\n",
       "      <td>140</td>\n",
       "      <td>135</td>\n",
       "      <td>90</td>\n",
       "    </tr>\n",
       "    <tr>\n",
       "      <td>11097</td>\n",
       "      <td>140</td>\n",
       "      <td>59</td>\n",
       "      <td>320</td>\n",
       "    </tr>\n",
       "    <tr>\n",
       "      <td>11098</td>\n",
       "      <td>75</td>\n",
       "      <td>1563</td>\n",
       "      <td>1697</td>\n",
       "    </tr>\n",
       "  </tbody>\n",
       "</table>\n",
       "<p>11099 rows × 3 columns</p>\n",
       "</div>"
      ],
      "text/plain": [
       "       tweet_length  followers_count  friends_count\n",
       "0               140              215            335\n",
       "1                77              199            203\n",
       "2               140              196            558\n",
       "3               140             3313           2272\n",
       "4               140              125            273\n",
       "...             ...              ...            ...\n",
       "11094           140              509           1323\n",
       "11095            75              462           1033\n",
       "11096           140              135             90\n",
       "11097           140               59            320\n",
       "11098            75             1563           1697\n",
       "\n",
       "[11099 rows x 3 columns]"
      ]
     },
     "execution_count": 112,
     "metadata": {},
     "output_type": "execute_result"
    }
   ],
   "source": [
    "data = all_tweets[['tweet_length', 'followers_count', 'friends_count']]\n",
    "data"
   ]
  },
  {
   "cell_type": "code",
   "execution_count": 113,
   "metadata": {},
   "outputs": [],
   "source": [
    "labels = all_tweets['viral_tweet']"
   ]
  },
  {
   "cell_type": "markdown",
   "metadata": {},
   "source": [
    "## Normalizing the data"
   ]
  },
  {
   "cell_type": "code",
   "execution_count": 114,
   "metadata": {},
   "outputs": [],
   "source": [
    "scaled_data = scale(data, axis=0)"
   ]
  },
  {
   "cell_type": "code",
   "execution_count": 115,
   "metadata": {},
   "outputs": [
    {
     "data": {
      "text/plain": [
       "array([[ 0.6164054 , -0.02878298, -0.14483305],\n",
       "       [-1.64577622, -0.02886246, -0.16209787],\n",
       "       [ 0.6164054 , -0.02887736, -0.11566596],\n",
       "       ...,\n",
       "       [ 0.6164054 , -0.02918038, -0.1768776 ],\n",
       "       [ 0.6164054 , -0.02955792, -0.14679496],\n",
       "       [-1.71759151, -0.02208668,  0.0333085 ]])"
      ]
     },
     "execution_count": 115,
     "metadata": {},
     "output_type": "execute_result"
    }
   ],
   "source": [
    "scaled_data"
   ]
  },
  {
   "cell_type": "markdown",
   "metadata": {},
   "source": [
    "## Splitting the data"
   ]
  },
  {
   "cell_type": "code",
   "execution_count": 116,
   "metadata": {},
   "outputs": [],
   "source": [
    "train_data, test_data, train_labels, test_labels = train_test_split(scaled_data, labels, test_size=0.2, random_state = 1)"
   ]
  },
  {
   "cell_type": "markdown",
   "metadata": {},
   "source": [
    "## Using the classifier"
   ]
  },
  {
   "cell_type": "code",
   "execution_count": 117,
   "metadata": {},
   "outputs": [],
   "source": [
    "classifier = KNeighborsClassifier(n_neighbors=5)"
   ]
  },
  {
   "cell_type": "code",
   "execution_count": 118,
   "metadata": {},
   "outputs": [
    {
     "data": {
      "text/plain": [
       "KNeighborsClassifier(algorithm='auto', leaf_size=30, metric='minkowski',\n",
       "                     metric_params=None, n_jobs=None, n_neighbors=5, p=2,\n",
       "                     weights='uniform')"
      ]
     },
     "execution_count": 118,
     "metadata": {},
     "output_type": "execute_result"
    }
   ],
   "source": [
    "classifier.fit(train_data, train_labels)"
   ]
  },
  {
   "cell_type": "code",
   "execution_count": 119,
   "metadata": {},
   "outputs": [
    {
     "data": {
      "text/plain": [
       "0.5882882882882883"
      ]
     },
     "execution_count": 119,
     "metadata": {},
     "output_type": "execute_result"
    }
   ],
   "source": [
    "classifier.score(test_data, test_labels)"
   ]
  },
  {
   "cell_type": "markdown",
   "metadata": {},
   "source": [
    "## Choosing K"
   ]
  },
  {
   "cell_type": "code",
   "execution_count": 120,
   "metadata": {},
   "outputs": [],
   "source": [
    "def listScores(numNeighbors):\n",
    "    scores = []\n",
    "    for i in range(1, numNeighbors):\n",
    "        classifier = KNeighborsClassifier(n_neighbors=i)\n",
    "        classifier.fit(train_data, train_labels)\n",
    "        scores.append(classifier.score(test_data, test_labels))\n",
    "    return scores"
   ]
  },
  {
   "cell_type": "code",
   "execution_count": 121,
   "metadata": {},
   "outputs": [],
   "source": [
    "scores = listScores(500)"
   ]
  },
  {
   "cell_type": "code",
   "execution_count": 122,
   "metadata": {},
   "outputs": [],
   "source": [
    "maxScore = np.empty(500)\n",
    "maxScore[:] = np.NaN\n",
    "maxScore[np.where(scores==np.amax(scores))] = np.amax(scores)"
   ]
  },
  {
   "cell_type": "code",
   "execution_count": 123,
   "metadata": {},
   "outputs": [
    {
     "data": {
      "application/vnd.plotly.v1+json": {
       "config": {
        "plotlyServerURL": "https://plot.ly"
       },
       "data": [
        {
         "name": "Scores",
         "type": "scatter",
         "x": [
          1,
          2,
          3,
          4,
          5,
          6,
          7,
          8,
          9,
          10,
          11,
          12,
          13,
          14,
          15,
          16,
          17,
          18,
          19,
          20,
          21,
          22,
          23,
          24,
          25,
          26,
          27,
          28,
          29,
          30,
          31,
          32,
          33,
          34,
          35,
          36,
          37,
          38,
          39,
          40,
          41,
          42,
          43,
          44,
          45,
          46,
          47,
          48,
          49,
          50,
          51,
          52,
          53,
          54,
          55,
          56,
          57,
          58,
          59,
          60,
          61,
          62,
          63,
          64,
          65,
          66,
          67,
          68,
          69,
          70,
          71,
          72,
          73,
          74,
          75,
          76,
          77,
          78,
          79,
          80,
          81,
          82,
          83,
          84,
          85,
          86,
          87,
          88,
          89,
          90,
          91,
          92,
          93,
          94,
          95,
          96,
          97,
          98,
          99,
          100,
          101,
          102,
          103,
          104,
          105,
          106,
          107,
          108,
          109,
          110,
          111,
          112,
          113,
          114,
          115,
          116,
          117,
          118,
          119,
          120,
          121,
          122,
          123,
          124,
          125,
          126,
          127,
          128,
          129,
          130,
          131,
          132,
          133,
          134,
          135,
          136,
          137,
          138,
          139,
          140,
          141,
          142,
          143,
          144,
          145,
          146,
          147,
          148,
          149,
          150,
          151,
          152,
          153,
          154,
          155,
          156,
          157,
          158,
          159,
          160,
          161,
          162,
          163,
          164,
          165,
          166,
          167,
          168,
          169,
          170,
          171,
          172,
          173,
          174,
          175,
          176,
          177,
          178,
          179,
          180,
          181,
          182,
          183,
          184,
          185,
          186,
          187,
          188,
          189,
          190,
          191,
          192,
          193,
          194,
          195,
          196,
          197,
          198,
          199,
          200,
          201,
          202,
          203,
          204,
          205,
          206,
          207,
          208,
          209,
          210,
          211,
          212,
          213,
          214,
          215,
          216,
          217,
          218,
          219,
          220,
          221,
          222,
          223,
          224,
          225,
          226,
          227,
          228,
          229,
          230,
          231,
          232,
          233,
          234,
          235,
          236,
          237,
          238,
          239,
          240,
          241,
          242,
          243,
          244,
          245,
          246,
          247,
          248,
          249,
          250,
          251,
          252,
          253,
          254,
          255,
          256,
          257,
          258,
          259,
          260,
          261,
          262,
          263,
          264,
          265,
          266,
          267,
          268,
          269,
          270,
          271,
          272,
          273,
          274,
          275,
          276,
          277,
          278,
          279,
          280,
          281,
          282,
          283,
          284,
          285,
          286,
          287,
          288,
          289,
          290,
          291,
          292,
          293,
          294,
          295,
          296,
          297,
          298,
          299,
          300,
          301,
          302,
          303,
          304,
          305,
          306,
          307,
          308,
          309,
          310,
          311,
          312,
          313,
          314,
          315,
          316,
          317,
          318,
          319,
          320,
          321,
          322,
          323,
          324,
          325,
          326,
          327,
          328,
          329,
          330,
          331,
          332,
          333,
          334,
          335,
          336,
          337,
          338,
          339,
          340,
          341,
          342,
          343,
          344,
          345,
          346,
          347,
          348,
          349,
          350,
          351,
          352,
          353,
          354,
          355,
          356,
          357,
          358,
          359,
          360,
          361,
          362,
          363,
          364,
          365,
          366,
          367,
          368,
          369,
          370,
          371,
          372,
          373,
          374,
          375,
          376,
          377,
          378,
          379,
          380,
          381,
          382,
          383,
          384,
          385,
          386,
          387,
          388,
          389,
          390,
          391,
          392,
          393,
          394,
          395,
          396,
          397,
          398,
          399,
          400,
          401,
          402,
          403,
          404,
          405,
          406,
          407,
          408,
          409,
          410,
          411,
          412,
          413,
          414,
          415,
          416,
          417,
          418,
          419,
          420,
          421,
          422,
          423,
          424,
          425,
          426,
          427,
          428,
          429,
          430,
          431,
          432,
          433,
          434,
          435,
          436,
          437,
          438,
          439,
          440,
          441,
          442,
          443,
          444,
          445,
          446,
          447,
          448,
          449,
          450,
          451,
          452,
          453,
          454,
          455,
          456,
          457,
          458,
          459,
          460,
          461,
          462,
          463,
          464,
          465,
          466,
          467,
          468,
          469,
          470,
          471,
          472,
          473,
          474,
          475,
          476,
          477,
          478,
          479,
          480,
          481,
          482,
          483,
          484,
          485,
          486,
          487,
          488,
          489,
          490,
          491,
          492,
          493,
          494,
          495,
          496,
          497,
          498,
          499
         ],
         "y": [
          0.5662162162162162,
          0.5490990990990992,
          0.586036036036036,
          0.5783783783783784,
          0.5882882882882883,
          0.5927927927927928,
          0.6,
          0.5887387387387387,
          0.6022522522522522,
          0.5986486486486486,
          0.6139639639639639,
          0.6112612612612612,
          0.6112612612612612,
          0.604954954954955,
          0.6139639639639639,
          0.5995495495495495,
          0.6081081081081081,
          0.6063063063063063,
          0.6121621621621621,
          0.6072072072072072,
          0.6103603603603603,
          0.6094594594594595,
          0.6126126126126126,
          0.6139639639639639,
          0.6184684684684685,
          0.6144144144144145,
          0.6184684684684685,
          0.6162162162162163,
          0.6153153153153154,
          0.6103603603603603,
          0.6117117117117117,
          0.6117117117117117,
          0.6139639639639639,
          0.6108108108108108,
          0.6153153153153154,
          0.618018018018018,
          0.6162162162162163,
          0.6117117117117117,
          0.6184684684684685,
          0.6189189189189189,
          0.6225225225225225,
          0.6157657657657658,
          0.6144144144144145,
          0.6162162162162163,
          0.6121621621621621,
          0.6166666666666667,
          0.6171171171171171,
          0.6144144144144145,
          0.6171171171171171,
          0.6157657657657658,
          0.6126126126126126,
          0.6144144144144145,
          0.6175675675675676,
          0.6148648648648649,
          0.6148648648648649,
          0.6139639639639639,
          0.6198198198198198,
          0.6148648648648649,
          0.6157657657657658,
          0.613063063063063,
          0.6171171171171171,
          0.6153153153153154,
          0.6126126126126126,
          0.6144144144144145,
          0.6198198198198198,
          0.6198198198198198,
          0.6198198198198198,
          0.618018018018018,
          0.6171171171171171,
          0.6139639639639639,
          0.6166666666666667,
          0.613063063063063,
          0.6135135135135135,
          0.6099099099099099,
          0.6135135135135135,
          0.6099099099099099,
          0.6121621621621621,
          0.613063063063063,
          0.6103603603603603,
          0.6103603603603603,
          0.6126126126126126,
          0.613063063063063,
          0.6112612612612612,
          0.6108108108108108,
          0.6108108108108108,
          0.6076576576576577,
          0.6072072072072072,
          0.6099099099099099,
          0.6103603603603603,
          0.6094594594594595,
          0.6099099099099099,
          0.6085585585585586,
          0.6063063063063063,
          0.6045045045045045,
          0.6054054054054054,
          0.6054054054054054,
          0.6076576576576577,
          0.6072072072072072,
          0.6103603603603603,
          0.6085585585585586,
          0.6108108108108108,
          0.6076576576576577,
          0.6117117117117117,
          0.6076576576576577,
          0.6085585585585586,
          0.6081081081081081,
          0.6108108108108108,
          0.6094594594594595,
          0.6108108108108108,
          0.6112612612612612,
          0.6108108108108108,
          0.6108108108108108,
          0.6117117117117117,
          0.6085585585585586,
          0.6094594594594595,
          0.6081081081081081,
          0.6094594594594595,
          0.6085585585585586,
          0.6117117117117117,
          0.6108108108108108,
          0.6126126126126126,
          0.6117117117117117,
          0.6108108108108108,
          0.6085585585585586,
          0.6085585585585586,
          0.6067567567567568,
          0.6076576576576577,
          0.6081081081081081,
          0.6072072072072072,
          0.6054054054054054,
          0.6058558558558559,
          0.6072072072072072,
          0.6072072072072072,
          0.6076576576576577,
          0.609009009009009,
          0.6054054054054054,
          0.6067567567567568,
          0.6063063063063063,
          0.6054054054054054,
          0.6076576576576577,
          0.6072072072072072,
          0.6063063063063063,
          0.6067567567567568,
          0.6036036036036037,
          0.6036036036036037,
          0.6045045045045045,
          0.6063063063063063,
          0.6058558558558559,
          0.6058558558558559,
          0.6072072072072072,
          0.6063063063063063,
          0.6058558558558559,
          0.6054054054054054,
          0.6054054054054054,
          0.6045045045045045,
          0.6058558558558559,
          0.6054054054054054,
          0.6045045045045045,
          0.6040540540540541,
          0.6031531531531531,
          0.6031531531531531,
          0.6045045045045045,
          0.6031531531531531,
          0.6045045045045045,
          0.604954954954955,
          0.6040540540540541,
          0.6040540540540541,
          0.6040540540540541,
          0.6027027027027027,
          0.6018018018018018,
          0.6013513513513513,
          0.6022522522522522,
          0.6027027027027027,
          0.6031531531531531,
          0.6040540540540541,
          0.6036036036036037,
          0.6013513513513513,
          0.6018018018018018,
          0.6022522522522522,
          0.6031531531531531,
          0.6027027027027027,
          0.6040540540540541,
          0.6018018018018018,
          0.6031531531531531,
          0.6022522522522522,
          0.6031531531531531,
          0.6013513513513513,
          0.6031531531531531,
          0.6018018018018018,
          0.6022522522522522,
          0.6,
          0.6022522522522522,
          0.6009009009009009,
          0.6022522522522522,
          0.6018018018018018,
          0.604954954954955,
          0.6036036036036037,
          0.6058558558558559,
          0.6058558558558559,
          0.604954954954955,
          0.6027027027027027,
          0.6040540540540541,
          0.6022522522522522,
          0.6045045045045045,
          0.6040540540540541,
          0.6045045045045045,
          0.6022522522522522,
          0.6036036036036037,
          0.6022522522522522,
          0.6036036036036037,
          0.6036036036036037,
          0.6031531531531531,
          0.6040540540540541,
          0.6040540540540541,
          0.6031531531531531,
          0.6036036036036037,
          0.6040540540540541,
          0.6031531531531531,
          0.6031531531531531,
          0.6022522522522522,
          0.6027027027027027,
          0.6018018018018018,
          0.6022522522522522,
          0.6013513513513513,
          0.6013513513513513,
          0.6027027027027027,
          0.6022522522522522,
          0.6036036036036037,
          0.6022522522522522,
          0.6022522522522522,
          0.6022522522522522,
          0.6036036036036037,
          0.6031531531531531,
          0.6031531531531531,
          0.6,
          0.6027027027027027,
          0.6,
          0.6031531531531531,
          0.5990990990990991,
          0.6,
          0.5990990990990991,
          0.6004504504504504,
          0.6,
          0.6004504504504504,
          0.6,
          0.5995495495495495,
          0.5995495495495495,
          0.6,
          0.5986486486486486,
          0.5995495495495495,
          0.5981981981981982,
          0.5995495495495495,
          0.6,
          0.6,
          0.5986486486486486,
          0.6009009009009009,
          0.5986486486486486,
          0.6,
          0.5972972972972973,
          0.5990990990990991,
          0.5986486486486486,
          0.5981981981981982,
          0.5977477477477477,
          0.5986486486486486,
          0.5981981981981982,
          0.5990990990990991,
          0.6004504504504504,
          0.5986486486486486,
          0.6013513513513513,
          0.5986486486486486,
          0.5990990990990991,
          0.5986486486486486,
          0.5995495495495495,
          0.6,
          0.5990990990990991,
          0.6004504504504504,
          0.6,
          0.6004504504504504,
          0.6004504504504504,
          0.5990990990990991,
          0.5990990990990991,
          0.5986486486486486,
          0.5981981981981982,
          0.5986486486486486,
          0.6,
          0.6,
          0.5990990990990991,
          0.5995495495495495,
          0.5986486486486486,
          0.5990990990990991,
          0.6,
          0.6,
          0.6004504504504504,
          0.6,
          0.6,
          0.6,
          0.6,
          0.6,
          0.5995495495495495,
          0.5990990990990991,
          0.5990990990990991,
          0.5986486486486486,
          0.5995495495495495,
          0.5995495495495495,
          0.6,
          0.6004504504504504,
          0.5990990990990991,
          0.5995495495495495,
          0.5986486486486486,
          0.5995495495495495,
          0.5990990990990991,
          0.5995495495495495,
          0.5990990990990991,
          0.5990990990990991,
          0.5986486486486486,
          0.6,
          0.5995495495495495,
          0.5995495495495495,
          0.5990990990990991,
          0.5995495495495495,
          0.5986486486486486,
          0.5995495495495495,
          0.5986486486486486,
          0.5986486486486486,
          0.5981981981981982,
          0.5981981981981982,
          0.5986486486486486,
          0.5986486486486486,
          0.5981981981981982,
          0.5986486486486486,
          0.5981981981981982,
          0.5986486486486486,
          0.5972972972972973,
          0.5977477477477477,
          0.5968468468468469,
          0.5977477477477477,
          0.5977477477477477,
          0.5972972972972973,
          0.6004504504504504,
          0.5990990990990991,
          0.5963963963963964,
          0.5986486486486486,
          0.595945945945946,
          0.5941441441441442,
          0.5941441441441442,
          0.5977477477477477,
          0.5977477477477477,
          0.5990990990990991,
          0.5995495495495495,
          0.5977477477477477,
          0.6004504504504504,
          0.5986486486486486,
          0.5977477477477477,
          0.5981981981981982,
          0.5963963963963964,
          0.5995495495495495,
          0.5977477477477477,
          0.5981981981981982,
          0.5981981981981982,
          0.5972972972972973,
          0.5954954954954955,
          0.595945945945946,
          0.5954954954954955,
          0.5954954954954955,
          0.5950450450450451,
          0.5963963963963964,
          0.595945945945946,
          0.5968468468468469,
          0.595945945945946,
          0.5972972972972973,
          0.595945945945946,
          0.5963963963963964,
          0.5950450450450451,
          0.5954954954954955,
          0.5954954954954955,
          0.5954954954954955,
          0.5945945945945946,
          0.5954954954954955,
          0.5936936936936937,
          0.5945945945945946,
          0.5927927927927928,
          0.5941441441441442,
          0.5927927927927928,
          0.5945945945945946,
          0.5932432432432433,
          0.5932432432432433,
          0.5927927927927928,
          0.5936936936936937,
          0.5936936936936937,
          0.5941441441441442,
          0.5945945945945946,
          0.5945945945945946,
          0.5945945945945946,
          0.5945945945945946,
          0.5950450450450451,
          0.5950450450450451,
          0.5945945945945946,
          0.5954954954954955,
          0.5950450450450451,
          0.5945945945945946,
          0.5950450450450451,
          0.5950450450450451,
          0.5950450450450451,
          0.5950450450450451,
          0.5945945945945946,
          0.5945945945945946,
          0.5950450450450451,
          0.5945945945945946,
          0.5945945945945946,
          0.5941441441441442,
          0.5945945945945946,
          0.5932432432432433,
          0.5936936936936937,
          0.5932432432432433,
          0.5936936936936937,
          0.5927927927927928,
          0.5932432432432433,
          0.5914414414414414,
          0.5918918918918918,
          0.5918918918918918,
          0.5918918918918918,
          0.5914414414414414,
          0.590990990990991,
          0.5905405405405405,
          0.590990990990991,
          0.5905405405405405,
          0.5900900900900901,
          0.5905405405405405,
          0.5905405405405405,
          0.5905405405405405,
          0.5914414414414414,
          0.5900900900900901,
          0.5914414414414414,
          0.5914414414414414,
          0.5923423423423423,
          0.5918918918918918,
          0.5941441441441442,
          0.5918918918918918,
          0.5936936936936937,
          0.5936936936936937,
          0.5941441441441442,
          0.5936936936936937,
          0.5945945945945946,
          0.5932432432432433,
          0.5941441441441442,
          0.5932432432432433,
          0.5945945945945946,
          0.5927927927927928,
          0.5936936936936937,
          0.5927927927927928,
          0.5945945945945946,
          0.5941441441441442,
          0.5954954954954955,
          0.5941441441441442,
          0.595945945945946,
          0.5936936936936937,
          0.5945945945945946,
          0.5936936936936937,
          0.5945945945945946,
          0.5936936936936937,
          0.5932432432432433,
          0.5932432432432433,
          0.5932432432432433,
          0.5936936936936937,
          0.5936936936936937,
          0.5936936936936937,
          0.5932432432432433,
          0.5932432432432433,
          0.5932432432432433,
          0.5932432432432433,
          0.5936936936936937,
          0.5936936936936937,
          0.5936936936936937,
          0.5941441441441442,
          0.5945945945945946,
          0.5941441441441442,
          0.5936936936936937,
          0.5941441441441442,
          0.5936936936936937,
          0.5932432432432433,
          0.5932432432432433,
          0.5941441441441442,
          0.5936936936936937,
          0.5936936936936937,
          0.5936936936936937,
          0.5936936936936937,
          0.5932432432432433,
          0.5932432432432433,
          0.5936936936936937,
          0.5936936936936937,
          0.5927927927927928,
          0.5932432432432433,
          0.5923423423423423,
          0.5923423423423423,
          0.590990990990991,
          0.5914414414414414,
          0.5914414414414414,
          0.5918918918918918,
          0.5918918918918918
         ]
        },
        {
         "marker": {
          "size": 10
         },
         "mode": "markers",
         "name": "Max Score",
         "type": "scatter",
         "x": [
          1,
          2,
          3,
          4,
          5,
          6,
          7,
          8,
          9,
          10,
          11,
          12,
          13,
          14,
          15,
          16,
          17,
          18,
          19,
          20,
          21,
          22,
          23,
          24,
          25,
          26,
          27,
          28,
          29,
          30,
          31,
          32,
          33,
          34,
          35,
          36,
          37,
          38,
          39,
          40,
          41,
          42,
          43,
          44,
          45,
          46,
          47,
          48,
          49,
          50,
          51,
          52,
          53,
          54,
          55,
          56,
          57,
          58,
          59,
          60,
          61,
          62,
          63,
          64,
          65,
          66,
          67,
          68,
          69,
          70,
          71,
          72,
          73,
          74,
          75,
          76,
          77,
          78,
          79,
          80,
          81,
          82,
          83,
          84,
          85,
          86,
          87,
          88,
          89,
          90,
          91,
          92,
          93,
          94,
          95,
          96,
          97,
          98,
          99,
          100,
          101,
          102,
          103,
          104,
          105,
          106,
          107,
          108,
          109,
          110,
          111,
          112,
          113,
          114,
          115,
          116,
          117,
          118,
          119,
          120,
          121,
          122,
          123,
          124,
          125,
          126,
          127,
          128,
          129,
          130,
          131,
          132,
          133,
          134,
          135,
          136,
          137,
          138,
          139,
          140,
          141,
          142,
          143,
          144,
          145,
          146,
          147,
          148,
          149,
          150,
          151,
          152,
          153,
          154,
          155,
          156,
          157,
          158,
          159,
          160,
          161,
          162,
          163,
          164,
          165,
          166,
          167,
          168,
          169,
          170,
          171,
          172,
          173,
          174,
          175,
          176,
          177,
          178,
          179,
          180,
          181,
          182,
          183,
          184,
          185,
          186,
          187,
          188,
          189,
          190,
          191,
          192,
          193,
          194,
          195,
          196,
          197,
          198,
          199,
          200,
          201,
          202,
          203,
          204,
          205,
          206,
          207,
          208,
          209,
          210,
          211,
          212,
          213,
          214,
          215,
          216,
          217,
          218,
          219,
          220,
          221,
          222,
          223,
          224,
          225,
          226,
          227,
          228,
          229,
          230,
          231,
          232,
          233,
          234,
          235,
          236,
          237,
          238,
          239,
          240,
          241,
          242,
          243,
          244,
          245,
          246,
          247,
          248,
          249,
          250,
          251,
          252,
          253,
          254,
          255,
          256,
          257,
          258,
          259,
          260,
          261,
          262,
          263,
          264,
          265,
          266,
          267,
          268,
          269,
          270,
          271,
          272,
          273,
          274,
          275,
          276,
          277,
          278,
          279,
          280,
          281,
          282,
          283,
          284,
          285,
          286,
          287,
          288,
          289,
          290,
          291,
          292,
          293,
          294,
          295,
          296,
          297,
          298,
          299,
          300,
          301,
          302,
          303,
          304,
          305,
          306,
          307,
          308,
          309,
          310,
          311,
          312,
          313,
          314,
          315,
          316,
          317,
          318,
          319,
          320,
          321,
          322,
          323,
          324,
          325,
          326,
          327,
          328,
          329,
          330,
          331,
          332,
          333,
          334,
          335,
          336,
          337,
          338,
          339,
          340,
          341,
          342,
          343,
          344,
          345,
          346,
          347,
          348,
          349,
          350,
          351,
          352,
          353,
          354,
          355,
          356,
          357,
          358,
          359,
          360,
          361,
          362,
          363,
          364,
          365,
          366,
          367,
          368,
          369,
          370,
          371,
          372,
          373,
          374,
          375,
          376,
          377,
          378,
          379,
          380,
          381,
          382,
          383,
          384,
          385,
          386,
          387,
          388,
          389,
          390,
          391,
          392,
          393,
          394,
          395,
          396,
          397,
          398,
          399,
          400,
          401,
          402,
          403,
          404,
          405,
          406,
          407,
          408,
          409,
          410,
          411,
          412,
          413,
          414,
          415,
          416,
          417,
          418,
          419,
          420,
          421,
          422,
          423,
          424,
          425,
          426,
          427,
          428,
          429,
          430,
          431,
          432,
          433,
          434,
          435,
          436,
          437,
          438,
          439,
          440,
          441,
          442,
          443,
          444,
          445,
          446,
          447,
          448,
          449,
          450,
          451,
          452,
          453,
          454,
          455,
          456,
          457,
          458,
          459,
          460,
          461,
          462,
          463,
          464,
          465,
          466,
          467,
          468,
          469,
          470,
          471,
          472,
          473,
          474,
          475,
          476,
          477,
          478,
          479,
          480,
          481,
          482,
          483,
          484,
          485,
          486,
          487,
          488,
          489,
          490,
          491,
          492,
          493,
          494,
          495,
          496,
          497,
          498,
          499
         ],
         "y": [
          null,
          null,
          null,
          null,
          null,
          null,
          null,
          null,
          null,
          null,
          null,
          null,
          null,
          null,
          null,
          null,
          null,
          null,
          null,
          null,
          null,
          null,
          null,
          null,
          null,
          null,
          null,
          null,
          null,
          null,
          null,
          null,
          null,
          null,
          null,
          null,
          null,
          null,
          null,
          null,
          0.6225225225225225,
          null,
          null,
          null,
          null,
          null,
          null,
          null,
          null,
          null,
          null,
          null,
          null,
          null,
          null,
          null,
          null,
          null,
          null,
          null,
          null,
          null,
          null,
          null,
          null,
          null,
          null,
          null,
          null,
          null,
          null,
          null,
          null,
          null,
          null,
          null,
          null,
          null,
          null,
          null,
          null,
          null,
          null,
          null,
          null,
          null,
          null,
          null,
          null,
          null,
          null,
          null,
          null,
          null,
          null,
          null,
          null,
          null,
          null,
          null,
          null,
          null,
          null,
          null,
          null,
          null,
          null,
          null,
          null,
          null,
          null,
          null,
          null,
          null,
          null,
          null,
          null,
          null,
          null,
          null,
          null,
          null,
          null,
          null,
          null,
          null,
          null,
          null,
          null,
          null,
          null,
          null,
          null,
          null,
          null,
          null,
          null,
          null,
          null,
          null,
          null,
          null,
          null,
          null,
          null,
          null,
          null,
          null,
          null,
          null,
          null,
          null,
          null,
          null,
          null,
          null,
          null,
          null,
          null,
          null,
          null,
          null,
          null,
          null,
          null,
          null,
          null,
          null,
          null,
          null,
          null,
          null,
          null,
          null,
          null,
          null,
          null,
          null,
          null,
          null,
          null,
          null,
          null,
          null,
          null,
          null,
          null,
          null,
          null,
          null,
          null,
          null,
          null,
          null,
          null,
          null,
          null,
          null,
          null,
          null,
          null,
          null,
          null,
          null,
          null,
          null,
          null,
          null,
          null,
          null,
          null,
          null,
          null,
          null,
          null,
          null,
          null,
          null,
          null,
          null,
          null,
          null,
          null,
          null,
          null,
          null,
          null,
          null,
          null,
          null,
          null,
          null,
          null,
          null,
          null,
          null,
          null,
          null,
          null,
          null,
          null,
          null,
          null,
          null,
          null,
          null,
          null,
          null,
          null,
          null,
          null,
          null,
          null,
          null,
          null,
          null,
          null,
          null,
          null,
          null,
          null,
          null,
          null,
          null,
          null,
          null,
          null,
          null,
          null,
          null,
          null,
          null,
          null,
          null,
          null,
          null,
          null,
          null,
          null,
          null,
          null,
          null,
          null,
          null,
          null,
          null,
          null,
          null,
          null,
          null,
          null,
          null,
          null,
          null,
          null,
          null,
          null,
          null,
          null,
          null,
          null,
          null,
          null,
          null,
          null,
          null,
          null,
          null,
          null,
          null,
          null,
          null,
          null,
          null,
          null,
          null,
          null,
          null,
          null,
          null,
          null,
          null,
          null,
          null,
          null,
          null,
          null,
          null,
          null,
          null,
          null,
          null,
          null,
          null,
          null,
          null,
          null,
          null,
          null,
          null,
          null,
          null,
          null,
          null,
          null,
          null,
          null,
          null,
          null,
          null,
          null,
          null,
          null,
          null,
          null,
          null,
          null,
          null,
          null,
          null,
          null,
          null,
          null,
          null,
          null,
          null,
          null,
          null,
          null,
          null,
          null,
          null,
          null,
          null,
          null,
          null,
          null,
          null,
          null,
          null,
          null,
          null,
          null,
          null,
          null,
          null,
          null,
          null,
          null,
          null,
          null,
          null,
          null,
          null,
          null,
          null,
          null,
          null,
          null,
          null,
          null,
          null,
          null,
          null,
          null,
          null,
          null,
          null,
          null,
          null,
          null,
          null,
          null,
          null,
          null,
          null,
          null,
          null,
          null,
          null,
          null,
          null,
          null,
          null,
          null,
          null,
          null,
          null,
          null,
          null,
          null,
          null,
          null,
          null,
          null,
          null,
          null,
          null,
          null,
          null,
          null,
          null,
          null,
          null,
          null,
          null,
          null,
          null,
          null,
          null,
          null,
          null,
          null,
          null,
          null,
          null,
          null,
          null,
          null,
          null,
          null,
          null,
          null,
          null,
          null,
          null,
          null,
          null,
          null,
          null,
          null,
          null,
          null,
          null,
          null,
          null,
          null,
          null,
          null,
          null,
          null,
          null,
          null,
          null,
          null,
          null,
          null,
          null,
          null,
          null,
          null,
          null,
          null,
          null,
          null,
          null,
          null,
          null,
          null,
          null
         ]
        }
       ],
       "layout": {
        "template": {
         "data": {
          "bar": [
           {
            "error_x": {
             "color": "#2a3f5f"
            },
            "error_y": {
             "color": "#2a3f5f"
            },
            "marker": {
             "line": {
              "color": "#E5ECF6",
              "width": 0.5
             }
            },
            "type": "bar"
           }
          ],
          "barpolar": [
           {
            "marker": {
             "line": {
              "color": "#E5ECF6",
              "width": 0.5
             }
            },
            "type": "barpolar"
           }
          ],
          "carpet": [
           {
            "aaxis": {
             "endlinecolor": "#2a3f5f",
             "gridcolor": "white",
             "linecolor": "white",
             "minorgridcolor": "white",
             "startlinecolor": "#2a3f5f"
            },
            "baxis": {
             "endlinecolor": "#2a3f5f",
             "gridcolor": "white",
             "linecolor": "white",
             "minorgridcolor": "white",
             "startlinecolor": "#2a3f5f"
            },
            "type": "carpet"
           }
          ],
          "choropleth": [
           {
            "colorbar": {
             "outlinewidth": 0,
             "ticks": ""
            },
            "type": "choropleth"
           }
          ],
          "contour": [
           {
            "colorbar": {
             "outlinewidth": 0,
             "ticks": ""
            },
            "colorscale": [
             [
              0,
              "#0d0887"
             ],
             [
              0.1111111111111111,
              "#46039f"
             ],
             [
              0.2222222222222222,
              "#7201a8"
             ],
             [
              0.3333333333333333,
              "#9c179e"
             ],
             [
              0.4444444444444444,
              "#bd3786"
             ],
             [
              0.5555555555555556,
              "#d8576b"
             ],
             [
              0.6666666666666666,
              "#ed7953"
             ],
             [
              0.7777777777777778,
              "#fb9f3a"
             ],
             [
              0.8888888888888888,
              "#fdca26"
             ],
             [
              1,
              "#f0f921"
             ]
            ],
            "type": "contour"
           }
          ],
          "contourcarpet": [
           {
            "colorbar": {
             "outlinewidth": 0,
             "ticks": ""
            },
            "type": "contourcarpet"
           }
          ],
          "heatmap": [
           {
            "colorbar": {
             "outlinewidth": 0,
             "ticks": ""
            },
            "colorscale": [
             [
              0,
              "#0d0887"
             ],
             [
              0.1111111111111111,
              "#46039f"
             ],
             [
              0.2222222222222222,
              "#7201a8"
             ],
             [
              0.3333333333333333,
              "#9c179e"
             ],
             [
              0.4444444444444444,
              "#bd3786"
             ],
             [
              0.5555555555555556,
              "#d8576b"
             ],
             [
              0.6666666666666666,
              "#ed7953"
             ],
             [
              0.7777777777777778,
              "#fb9f3a"
             ],
             [
              0.8888888888888888,
              "#fdca26"
             ],
             [
              1,
              "#f0f921"
             ]
            ],
            "type": "heatmap"
           }
          ],
          "heatmapgl": [
           {
            "colorbar": {
             "outlinewidth": 0,
             "ticks": ""
            },
            "colorscale": [
             [
              0,
              "#0d0887"
             ],
             [
              0.1111111111111111,
              "#46039f"
             ],
             [
              0.2222222222222222,
              "#7201a8"
             ],
             [
              0.3333333333333333,
              "#9c179e"
             ],
             [
              0.4444444444444444,
              "#bd3786"
             ],
             [
              0.5555555555555556,
              "#d8576b"
             ],
             [
              0.6666666666666666,
              "#ed7953"
             ],
             [
              0.7777777777777778,
              "#fb9f3a"
             ],
             [
              0.8888888888888888,
              "#fdca26"
             ],
             [
              1,
              "#f0f921"
             ]
            ],
            "type": "heatmapgl"
           }
          ],
          "histogram": [
           {
            "marker": {
             "colorbar": {
              "outlinewidth": 0,
              "ticks": ""
             }
            },
            "type": "histogram"
           }
          ],
          "histogram2d": [
           {
            "colorbar": {
             "outlinewidth": 0,
             "ticks": ""
            },
            "colorscale": [
             [
              0,
              "#0d0887"
             ],
             [
              0.1111111111111111,
              "#46039f"
             ],
             [
              0.2222222222222222,
              "#7201a8"
             ],
             [
              0.3333333333333333,
              "#9c179e"
             ],
             [
              0.4444444444444444,
              "#bd3786"
             ],
             [
              0.5555555555555556,
              "#d8576b"
             ],
             [
              0.6666666666666666,
              "#ed7953"
             ],
             [
              0.7777777777777778,
              "#fb9f3a"
             ],
             [
              0.8888888888888888,
              "#fdca26"
             ],
             [
              1,
              "#f0f921"
             ]
            ],
            "type": "histogram2d"
           }
          ],
          "histogram2dcontour": [
           {
            "colorbar": {
             "outlinewidth": 0,
             "ticks": ""
            },
            "colorscale": [
             [
              0,
              "#0d0887"
             ],
             [
              0.1111111111111111,
              "#46039f"
             ],
             [
              0.2222222222222222,
              "#7201a8"
             ],
             [
              0.3333333333333333,
              "#9c179e"
             ],
             [
              0.4444444444444444,
              "#bd3786"
             ],
             [
              0.5555555555555556,
              "#d8576b"
             ],
             [
              0.6666666666666666,
              "#ed7953"
             ],
             [
              0.7777777777777778,
              "#fb9f3a"
             ],
             [
              0.8888888888888888,
              "#fdca26"
             ],
             [
              1,
              "#f0f921"
             ]
            ],
            "type": "histogram2dcontour"
           }
          ],
          "mesh3d": [
           {
            "colorbar": {
             "outlinewidth": 0,
             "ticks": ""
            },
            "type": "mesh3d"
           }
          ],
          "parcoords": [
           {
            "line": {
             "colorbar": {
              "outlinewidth": 0,
              "ticks": ""
             }
            },
            "type": "parcoords"
           }
          ],
          "pie": [
           {
            "automargin": true,
            "type": "pie"
           }
          ],
          "scatter": [
           {
            "marker": {
             "colorbar": {
              "outlinewidth": 0,
              "ticks": ""
             }
            },
            "type": "scatter"
           }
          ],
          "scatter3d": [
           {
            "line": {
             "colorbar": {
              "outlinewidth": 0,
              "ticks": ""
             }
            },
            "marker": {
             "colorbar": {
              "outlinewidth": 0,
              "ticks": ""
             }
            },
            "type": "scatter3d"
           }
          ],
          "scattercarpet": [
           {
            "marker": {
             "colorbar": {
              "outlinewidth": 0,
              "ticks": ""
             }
            },
            "type": "scattercarpet"
           }
          ],
          "scattergeo": [
           {
            "marker": {
             "colorbar": {
              "outlinewidth": 0,
              "ticks": ""
             }
            },
            "type": "scattergeo"
           }
          ],
          "scattergl": [
           {
            "marker": {
             "colorbar": {
              "outlinewidth": 0,
              "ticks": ""
             }
            },
            "type": "scattergl"
           }
          ],
          "scattermapbox": [
           {
            "marker": {
             "colorbar": {
              "outlinewidth": 0,
              "ticks": ""
             }
            },
            "type": "scattermapbox"
           }
          ],
          "scatterpolar": [
           {
            "marker": {
             "colorbar": {
              "outlinewidth": 0,
              "ticks": ""
             }
            },
            "type": "scatterpolar"
           }
          ],
          "scatterpolargl": [
           {
            "marker": {
             "colorbar": {
              "outlinewidth": 0,
              "ticks": ""
             }
            },
            "type": "scatterpolargl"
           }
          ],
          "scatterternary": [
           {
            "marker": {
             "colorbar": {
              "outlinewidth": 0,
              "ticks": ""
             }
            },
            "type": "scatterternary"
           }
          ],
          "surface": [
           {
            "colorbar": {
             "outlinewidth": 0,
             "ticks": ""
            },
            "colorscale": [
             [
              0,
              "#0d0887"
             ],
             [
              0.1111111111111111,
              "#46039f"
             ],
             [
              0.2222222222222222,
              "#7201a8"
             ],
             [
              0.3333333333333333,
              "#9c179e"
             ],
             [
              0.4444444444444444,
              "#bd3786"
             ],
             [
              0.5555555555555556,
              "#d8576b"
             ],
             [
              0.6666666666666666,
              "#ed7953"
             ],
             [
              0.7777777777777778,
              "#fb9f3a"
             ],
             [
              0.8888888888888888,
              "#fdca26"
             ],
             [
              1,
              "#f0f921"
             ]
            ],
            "type": "surface"
           }
          ],
          "table": [
           {
            "cells": {
             "fill": {
              "color": "#EBF0F8"
             },
             "line": {
              "color": "white"
             }
            },
            "header": {
             "fill": {
              "color": "#C8D4E3"
             },
             "line": {
              "color": "white"
             }
            },
            "type": "table"
           }
          ]
         },
         "layout": {
          "annotationdefaults": {
           "arrowcolor": "#2a3f5f",
           "arrowhead": 0,
           "arrowwidth": 1
          },
          "coloraxis": {
           "colorbar": {
            "outlinewidth": 0,
            "ticks": ""
           }
          },
          "colorscale": {
           "diverging": [
            [
             0,
             "#8e0152"
            ],
            [
             0.1,
             "#c51b7d"
            ],
            [
             0.2,
             "#de77ae"
            ],
            [
             0.3,
             "#f1b6da"
            ],
            [
             0.4,
             "#fde0ef"
            ],
            [
             0.5,
             "#f7f7f7"
            ],
            [
             0.6,
             "#e6f5d0"
            ],
            [
             0.7,
             "#b8e186"
            ],
            [
             0.8,
             "#7fbc41"
            ],
            [
             0.9,
             "#4d9221"
            ],
            [
             1,
             "#276419"
            ]
           ],
           "sequential": [
            [
             0,
             "#0d0887"
            ],
            [
             0.1111111111111111,
             "#46039f"
            ],
            [
             0.2222222222222222,
             "#7201a8"
            ],
            [
             0.3333333333333333,
             "#9c179e"
            ],
            [
             0.4444444444444444,
             "#bd3786"
            ],
            [
             0.5555555555555556,
             "#d8576b"
            ],
            [
             0.6666666666666666,
             "#ed7953"
            ],
            [
             0.7777777777777778,
             "#fb9f3a"
            ],
            [
             0.8888888888888888,
             "#fdca26"
            ],
            [
             1,
             "#f0f921"
            ]
           ],
           "sequentialminus": [
            [
             0,
             "#0d0887"
            ],
            [
             0.1111111111111111,
             "#46039f"
            ],
            [
             0.2222222222222222,
             "#7201a8"
            ],
            [
             0.3333333333333333,
             "#9c179e"
            ],
            [
             0.4444444444444444,
             "#bd3786"
            ],
            [
             0.5555555555555556,
             "#d8576b"
            ],
            [
             0.6666666666666666,
             "#ed7953"
            ],
            [
             0.7777777777777778,
             "#fb9f3a"
            ],
            [
             0.8888888888888888,
             "#fdca26"
            ],
            [
             1,
             "#f0f921"
            ]
           ]
          },
          "colorway": [
           "#636efa",
           "#EF553B",
           "#00cc96",
           "#ab63fa",
           "#FFA15A",
           "#19d3f3",
           "#FF6692",
           "#B6E880",
           "#FF97FF",
           "#FECB52"
          ],
          "font": {
           "color": "#2a3f5f"
          },
          "geo": {
           "bgcolor": "white",
           "lakecolor": "white",
           "landcolor": "#E5ECF6",
           "showlakes": true,
           "showland": true,
           "subunitcolor": "white"
          },
          "hoverlabel": {
           "align": "left"
          },
          "hovermode": "closest",
          "mapbox": {
           "style": "light"
          },
          "paper_bgcolor": "white",
          "plot_bgcolor": "#E5ECF6",
          "polar": {
           "angularaxis": {
            "gridcolor": "white",
            "linecolor": "white",
            "ticks": ""
           },
           "bgcolor": "#E5ECF6",
           "radialaxis": {
            "gridcolor": "white",
            "linecolor": "white",
            "ticks": ""
           }
          },
          "scene": {
           "xaxis": {
            "backgroundcolor": "#E5ECF6",
            "gridcolor": "white",
            "gridwidth": 2,
            "linecolor": "white",
            "showbackground": true,
            "ticks": "",
            "zerolinecolor": "white"
           },
           "yaxis": {
            "backgroundcolor": "#E5ECF6",
            "gridcolor": "white",
            "gridwidth": 2,
            "linecolor": "white",
            "showbackground": true,
            "ticks": "",
            "zerolinecolor": "white"
           },
           "zaxis": {
            "backgroundcolor": "#E5ECF6",
            "gridcolor": "white",
            "gridwidth": 2,
            "linecolor": "white",
            "showbackground": true,
            "ticks": "",
            "zerolinecolor": "white"
           }
          },
          "shapedefaults": {
           "line": {
            "color": "#2a3f5f"
           }
          },
          "ternary": {
           "aaxis": {
            "gridcolor": "white",
            "linecolor": "white",
            "ticks": ""
           },
           "baxis": {
            "gridcolor": "white",
            "linecolor": "white",
            "ticks": ""
           },
           "bgcolor": "#E5ECF6",
           "caxis": {
            "gridcolor": "white",
            "linecolor": "white",
            "ticks": ""
           }
          },
          "title": {
           "x": 0.05
          },
          "xaxis": {
           "automargin": true,
           "gridcolor": "white",
           "linecolor": "white",
           "ticks": "",
           "title": {
            "standoff": 15
           },
           "zerolinecolor": "white",
           "zerolinewidth": 2
          },
          "yaxis": {
           "automargin": true,
           "gridcolor": "white",
           "linecolor": "white",
           "ticks": "",
           "title": {
            "standoff": 15
           },
           "zerolinecolor": "white",
           "zerolinewidth": 2
          }
         }
        },
        "title": {
         "text": "Scores"
        }
       }
      },
      "text/html": [
       "<div>\n",
       "        \n",
       "        \n",
       "            <div id=\"a40147be-5f49-4f3d-a573-bd575da7562a\" class=\"plotly-graph-div\" style=\"height:525px; width:100%;\"></div>\n",
       "            <script type=\"text/javascript\">\n",
       "                require([\"plotly\"], function(Plotly) {\n",
       "                    window.PLOTLYENV=window.PLOTLYENV || {};\n",
       "                    \n",
       "                if (document.getElementById(\"a40147be-5f49-4f3d-a573-bd575da7562a\")) {\n",
       "                    Plotly.newPlot(\n",
       "                        'a40147be-5f49-4f3d-a573-bd575da7562a',\n",
       "                        [{\"name\": \"Scores\", \"type\": \"scatter\", \"x\": [1, 2, 3, 4, 5, 6, 7, 8, 9, 10, 11, 12, 13, 14, 15, 16, 17, 18, 19, 20, 21, 22, 23, 24, 25, 26, 27, 28, 29, 30, 31, 32, 33, 34, 35, 36, 37, 38, 39, 40, 41, 42, 43, 44, 45, 46, 47, 48, 49, 50, 51, 52, 53, 54, 55, 56, 57, 58, 59, 60, 61, 62, 63, 64, 65, 66, 67, 68, 69, 70, 71, 72, 73, 74, 75, 76, 77, 78, 79, 80, 81, 82, 83, 84, 85, 86, 87, 88, 89, 90, 91, 92, 93, 94, 95, 96, 97, 98, 99, 100, 101, 102, 103, 104, 105, 106, 107, 108, 109, 110, 111, 112, 113, 114, 115, 116, 117, 118, 119, 120, 121, 122, 123, 124, 125, 126, 127, 128, 129, 130, 131, 132, 133, 134, 135, 136, 137, 138, 139, 140, 141, 142, 143, 144, 145, 146, 147, 148, 149, 150, 151, 152, 153, 154, 155, 156, 157, 158, 159, 160, 161, 162, 163, 164, 165, 166, 167, 168, 169, 170, 171, 172, 173, 174, 175, 176, 177, 178, 179, 180, 181, 182, 183, 184, 185, 186, 187, 188, 189, 190, 191, 192, 193, 194, 195, 196, 197, 198, 199, 200, 201, 202, 203, 204, 205, 206, 207, 208, 209, 210, 211, 212, 213, 214, 215, 216, 217, 218, 219, 220, 221, 222, 223, 224, 225, 226, 227, 228, 229, 230, 231, 232, 233, 234, 235, 236, 237, 238, 239, 240, 241, 242, 243, 244, 245, 246, 247, 248, 249, 250, 251, 252, 253, 254, 255, 256, 257, 258, 259, 260, 261, 262, 263, 264, 265, 266, 267, 268, 269, 270, 271, 272, 273, 274, 275, 276, 277, 278, 279, 280, 281, 282, 283, 284, 285, 286, 287, 288, 289, 290, 291, 292, 293, 294, 295, 296, 297, 298, 299, 300, 301, 302, 303, 304, 305, 306, 307, 308, 309, 310, 311, 312, 313, 314, 315, 316, 317, 318, 319, 320, 321, 322, 323, 324, 325, 326, 327, 328, 329, 330, 331, 332, 333, 334, 335, 336, 337, 338, 339, 340, 341, 342, 343, 344, 345, 346, 347, 348, 349, 350, 351, 352, 353, 354, 355, 356, 357, 358, 359, 360, 361, 362, 363, 364, 365, 366, 367, 368, 369, 370, 371, 372, 373, 374, 375, 376, 377, 378, 379, 380, 381, 382, 383, 384, 385, 386, 387, 388, 389, 390, 391, 392, 393, 394, 395, 396, 397, 398, 399, 400, 401, 402, 403, 404, 405, 406, 407, 408, 409, 410, 411, 412, 413, 414, 415, 416, 417, 418, 419, 420, 421, 422, 423, 424, 425, 426, 427, 428, 429, 430, 431, 432, 433, 434, 435, 436, 437, 438, 439, 440, 441, 442, 443, 444, 445, 446, 447, 448, 449, 450, 451, 452, 453, 454, 455, 456, 457, 458, 459, 460, 461, 462, 463, 464, 465, 466, 467, 468, 469, 470, 471, 472, 473, 474, 475, 476, 477, 478, 479, 480, 481, 482, 483, 484, 485, 486, 487, 488, 489, 490, 491, 492, 493, 494, 495, 496, 497, 498, 499], \"y\": [0.5662162162162162, 0.5490990990990992, 0.586036036036036, 0.5783783783783784, 0.5882882882882883, 0.5927927927927928, 0.6, 0.5887387387387387, 0.6022522522522522, 0.5986486486486486, 0.6139639639639639, 0.6112612612612612, 0.6112612612612612, 0.604954954954955, 0.6139639639639639, 0.5995495495495495, 0.6081081081081081, 0.6063063063063063, 0.6121621621621621, 0.6072072072072072, 0.6103603603603603, 0.6094594594594595, 0.6126126126126126, 0.6139639639639639, 0.6184684684684685, 0.6144144144144145, 0.6184684684684685, 0.6162162162162163, 0.6153153153153154, 0.6103603603603603, 0.6117117117117117, 0.6117117117117117, 0.6139639639639639, 0.6108108108108108, 0.6153153153153154, 0.618018018018018, 0.6162162162162163, 0.6117117117117117, 0.6184684684684685, 0.6189189189189189, 0.6225225225225225, 0.6157657657657658, 0.6144144144144145, 0.6162162162162163, 0.6121621621621621, 0.6166666666666667, 0.6171171171171171, 0.6144144144144145, 0.6171171171171171, 0.6157657657657658, 0.6126126126126126, 0.6144144144144145, 0.6175675675675676, 0.6148648648648649, 0.6148648648648649, 0.6139639639639639, 0.6198198198198198, 0.6148648648648649, 0.6157657657657658, 0.613063063063063, 0.6171171171171171, 0.6153153153153154, 0.6126126126126126, 0.6144144144144145, 0.6198198198198198, 0.6198198198198198, 0.6198198198198198, 0.618018018018018, 0.6171171171171171, 0.6139639639639639, 0.6166666666666667, 0.613063063063063, 0.6135135135135135, 0.6099099099099099, 0.6135135135135135, 0.6099099099099099, 0.6121621621621621, 0.613063063063063, 0.6103603603603603, 0.6103603603603603, 0.6126126126126126, 0.613063063063063, 0.6112612612612612, 0.6108108108108108, 0.6108108108108108, 0.6076576576576577, 0.6072072072072072, 0.6099099099099099, 0.6103603603603603, 0.6094594594594595, 0.6099099099099099, 0.6085585585585586, 0.6063063063063063, 0.6045045045045045, 0.6054054054054054, 0.6054054054054054, 0.6076576576576577, 0.6072072072072072, 0.6103603603603603, 0.6085585585585586, 0.6108108108108108, 0.6076576576576577, 0.6117117117117117, 0.6076576576576577, 0.6085585585585586, 0.6081081081081081, 0.6108108108108108, 0.6094594594594595, 0.6108108108108108, 0.6112612612612612, 0.6108108108108108, 0.6108108108108108, 0.6117117117117117, 0.6085585585585586, 0.6094594594594595, 0.6081081081081081, 0.6094594594594595, 0.6085585585585586, 0.6117117117117117, 0.6108108108108108, 0.6126126126126126, 0.6117117117117117, 0.6108108108108108, 0.6085585585585586, 0.6085585585585586, 0.6067567567567568, 0.6076576576576577, 0.6081081081081081, 0.6072072072072072, 0.6054054054054054, 0.6058558558558559, 0.6072072072072072, 0.6072072072072072, 0.6076576576576577, 0.609009009009009, 0.6054054054054054, 0.6067567567567568, 0.6063063063063063, 0.6054054054054054, 0.6076576576576577, 0.6072072072072072, 0.6063063063063063, 0.6067567567567568, 0.6036036036036037, 0.6036036036036037, 0.6045045045045045, 0.6063063063063063, 0.6058558558558559, 0.6058558558558559, 0.6072072072072072, 0.6063063063063063, 0.6058558558558559, 0.6054054054054054, 0.6054054054054054, 0.6045045045045045, 0.6058558558558559, 0.6054054054054054, 0.6045045045045045, 0.6040540540540541, 0.6031531531531531, 0.6031531531531531, 0.6045045045045045, 0.6031531531531531, 0.6045045045045045, 0.604954954954955, 0.6040540540540541, 0.6040540540540541, 0.6040540540540541, 0.6027027027027027, 0.6018018018018018, 0.6013513513513513, 0.6022522522522522, 0.6027027027027027, 0.6031531531531531, 0.6040540540540541, 0.6036036036036037, 0.6013513513513513, 0.6018018018018018, 0.6022522522522522, 0.6031531531531531, 0.6027027027027027, 0.6040540540540541, 0.6018018018018018, 0.6031531531531531, 0.6022522522522522, 0.6031531531531531, 0.6013513513513513, 0.6031531531531531, 0.6018018018018018, 0.6022522522522522, 0.6, 0.6022522522522522, 0.6009009009009009, 0.6022522522522522, 0.6018018018018018, 0.604954954954955, 0.6036036036036037, 0.6058558558558559, 0.6058558558558559, 0.604954954954955, 0.6027027027027027, 0.6040540540540541, 0.6022522522522522, 0.6045045045045045, 0.6040540540540541, 0.6045045045045045, 0.6022522522522522, 0.6036036036036037, 0.6022522522522522, 0.6036036036036037, 0.6036036036036037, 0.6031531531531531, 0.6040540540540541, 0.6040540540540541, 0.6031531531531531, 0.6036036036036037, 0.6040540540540541, 0.6031531531531531, 0.6031531531531531, 0.6022522522522522, 0.6027027027027027, 0.6018018018018018, 0.6022522522522522, 0.6013513513513513, 0.6013513513513513, 0.6027027027027027, 0.6022522522522522, 0.6036036036036037, 0.6022522522522522, 0.6022522522522522, 0.6022522522522522, 0.6036036036036037, 0.6031531531531531, 0.6031531531531531, 0.6, 0.6027027027027027, 0.6, 0.6031531531531531, 0.5990990990990991, 0.6, 0.5990990990990991, 0.6004504504504504, 0.6, 0.6004504504504504, 0.6, 0.5995495495495495, 0.5995495495495495, 0.6, 0.5986486486486486, 0.5995495495495495, 0.5981981981981982, 0.5995495495495495, 0.6, 0.6, 0.5986486486486486, 0.6009009009009009, 0.5986486486486486, 0.6, 0.5972972972972973, 0.5990990990990991, 0.5986486486486486, 0.5981981981981982, 0.5977477477477477, 0.5986486486486486, 0.5981981981981982, 0.5990990990990991, 0.6004504504504504, 0.5986486486486486, 0.6013513513513513, 0.5986486486486486, 0.5990990990990991, 0.5986486486486486, 0.5995495495495495, 0.6, 0.5990990990990991, 0.6004504504504504, 0.6, 0.6004504504504504, 0.6004504504504504, 0.5990990990990991, 0.5990990990990991, 0.5986486486486486, 0.5981981981981982, 0.5986486486486486, 0.6, 0.6, 0.5990990990990991, 0.5995495495495495, 0.5986486486486486, 0.5990990990990991, 0.6, 0.6, 0.6004504504504504, 0.6, 0.6, 0.6, 0.6, 0.6, 0.5995495495495495, 0.5990990990990991, 0.5990990990990991, 0.5986486486486486, 0.5995495495495495, 0.5995495495495495, 0.6, 0.6004504504504504, 0.5990990990990991, 0.5995495495495495, 0.5986486486486486, 0.5995495495495495, 0.5990990990990991, 0.5995495495495495, 0.5990990990990991, 0.5990990990990991, 0.5986486486486486, 0.6, 0.5995495495495495, 0.5995495495495495, 0.5990990990990991, 0.5995495495495495, 0.5986486486486486, 0.5995495495495495, 0.5986486486486486, 0.5986486486486486, 0.5981981981981982, 0.5981981981981982, 0.5986486486486486, 0.5986486486486486, 0.5981981981981982, 0.5986486486486486, 0.5981981981981982, 0.5986486486486486, 0.5972972972972973, 0.5977477477477477, 0.5968468468468469, 0.5977477477477477, 0.5977477477477477, 0.5972972972972973, 0.6004504504504504, 0.5990990990990991, 0.5963963963963964, 0.5986486486486486, 0.595945945945946, 0.5941441441441442, 0.5941441441441442, 0.5977477477477477, 0.5977477477477477, 0.5990990990990991, 0.5995495495495495, 0.5977477477477477, 0.6004504504504504, 0.5986486486486486, 0.5977477477477477, 0.5981981981981982, 0.5963963963963964, 0.5995495495495495, 0.5977477477477477, 0.5981981981981982, 0.5981981981981982, 0.5972972972972973, 0.5954954954954955, 0.595945945945946, 0.5954954954954955, 0.5954954954954955, 0.5950450450450451, 0.5963963963963964, 0.595945945945946, 0.5968468468468469, 0.595945945945946, 0.5972972972972973, 0.595945945945946, 0.5963963963963964, 0.5950450450450451, 0.5954954954954955, 0.5954954954954955, 0.5954954954954955, 0.5945945945945946, 0.5954954954954955, 0.5936936936936937, 0.5945945945945946, 0.5927927927927928, 0.5941441441441442, 0.5927927927927928, 0.5945945945945946, 0.5932432432432433, 0.5932432432432433, 0.5927927927927928, 0.5936936936936937, 0.5936936936936937, 0.5941441441441442, 0.5945945945945946, 0.5945945945945946, 0.5945945945945946, 0.5945945945945946, 0.5950450450450451, 0.5950450450450451, 0.5945945945945946, 0.5954954954954955, 0.5950450450450451, 0.5945945945945946, 0.5950450450450451, 0.5950450450450451, 0.5950450450450451, 0.5950450450450451, 0.5945945945945946, 0.5945945945945946, 0.5950450450450451, 0.5945945945945946, 0.5945945945945946, 0.5941441441441442, 0.5945945945945946, 0.5932432432432433, 0.5936936936936937, 0.5932432432432433, 0.5936936936936937, 0.5927927927927928, 0.5932432432432433, 0.5914414414414414, 0.5918918918918918, 0.5918918918918918, 0.5918918918918918, 0.5914414414414414, 0.590990990990991, 0.5905405405405405, 0.590990990990991, 0.5905405405405405, 0.5900900900900901, 0.5905405405405405, 0.5905405405405405, 0.5905405405405405, 0.5914414414414414, 0.5900900900900901, 0.5914414414414414, 0.5914414414414414, 0.5923423423423423, 0.5918918918918918, 0.5941441441441442, 0.5918918918918918, 0.5936936936936937, 0.5936936936936937, 0.5941441441441442, 0.5936936936936937, 0.5945945945945946, 0.5932432432432433, 0.5941441441441442, 0.5932432432432433, 0.5945945945945946, 0.5927927927927928, 0.5936936936936937, 0.5927927927927928, 0.5945945945945946, 0.5941441441441442, 0.5954954954954955, 0.5941441441441442, 0.595945945945946, 0.5936936936936937, 0.5945945945945946, 0.5936936936936937, 0.5945945945945946, 0.5936936936936937, 0.5932432432432433, 0.5932432432432433, 0.5932432432432433, 0.5936936936936937, 0.5936936936936937, 0.5936936936936937, 0.5932432432432433, 0.5932432432432433, 0.5932432432432433, 0.5932432432432433, 0.5936936936936937, 0.5936936936936937, 0.5936936936936937, 0.5941441441441442, 0.5945945945945946, 0.5941441441441442, 0.5936936936936937, 0.5941441441441442, 0.5936936936936937, 0.5932432432432433, 0.5932432432432433, 0.5941441441441442, 0.5936936936936937, 0.5936936936936937, 0.5936936936936937, 0.5936936936936937, 0.5932432432432433, 0.5932432432432433, 0.5936936936936937, 0.5936936936936937, 0.5927927927927928, 0.5932432432432433, 0.5923423423423423, 0.5923423423423423, 0.590990990990991, 0.5914414414414414, 0.5914414414414414, 0.5918918918918918, 0.5918918918918918]}, {\"marker\": {\"size\": 10}, \"mode\": \"markers\", \"name\": \"Max Score\", \"type\": \"scatter\", \"x\": [1, 2, 3, 4, 5, 6, 7, 8, 9, 10, 11, 12, 13, 14, 15, 16, 17, 18, 19, 20, 21, 22, 23, 24, 25, 26, 27, 28, 29, 30, 31, 32, 33, 34, 35, 36, 37, 38, 39, 40, 41, 42, 43, 44, 45, 46, 47, 48, 49, 50, 51, 52, 53, 54, 55, 56, 57, 58, 59, 60, 61, 62, 63, 64, 65, 66, 67, 68, 69, 70, 71, 72, 73, 74, 75, 76, 77, 78, 79, 80, 81, 82, 83, 84, 85, 86, 87, 88, 89, 90, 91, 92, 93, 94, 95, 96, 97, 98, 99, 100, 101, 102, 103, 104, 105, 106, 107, 108, 109, 110, 111, 112, 113, 114, 115, 116, 117, 118, 119, 120, 121, 122, 123, 124, 125, 126, 127, 128, 129, 130, 131, 132, 133, 134, 135, 136, 137, 138, 139, 140, 141, 142, 143, 144, 145, 146, 147, 148, 149, 150, 151, 152, 153, 154, 155, 156, 157, 158, 159, 160, 161, 162, 163, 164, 165, 166, 167, 168, 169, 170, 171, 172, 173, 174, 175, 176, 177, 178, 179, 180, 181, 182, 183, 184, 185, 186, 187, 188, 189, 190, 191, 192, 193, 194, 195, 196, 197, 198, 199, 200, 201, 202, 203, 204, 205, 206, 207, 208, 209, 210, 211, 212, 213, 214, 215, 216, 217, 218, 219, 220, 221, 222, 223, 224, 225, 226, 227, 228, 229, 230, 231, 232, 233, 234, 235, 236, 237, 238, 239, 240, 241, 242, 243, 244, 245, 246, 247, 248, 249, 250, 251, 252, 253, 254, 255, 256, 257, 258, 259, 260, 261, 262, 263, 264, 265, 266, 267, 268, 269, 270, 271, 272, 273, 274, 275, 276, 277, 278, 279, 280, 281, 282, 283, 284, 285, 286, 287, 288, 289, 290, 291, 292, 293, 294, 295, 296, 297, 298, 299, 300, 301, 302, 303, 304, 305, 306, 307, 308, 309, 310, 311, 312, 313, 314, 315, 316, 317, 318, 319, 320, 321, 322, 323, 324, 325, 326, 327, 328, 329, 330, 331, 332, 333, 334, 335, 336, 337, 338, 339, 340, 341, 342, 343, 344, 345, 346, 347, 348, 349, 350, 351, 352, 353, 354, 355, 356, 357, 358, 359, 360, 361, 362, 363, 364, 365, 366, 367, 368, 369, 370, 371, 372, 373, 374, 375, 376, 377, 378, 379, 380, 381, 382, 383, 384, 385, 386, 387, 388, 389, 390, 391, 392, 393, 394, 395, 396, 397, 398, 399, 400, 401, 402, 403, 404, 405, 406, 407, 408, 409, 410, 411, 412, 413, 414, 415, 416, 417, 418, 419, 420, 421, 422, 423, 424, 425, 426, 427, 428, 429, 430, 431, 432, 433, 434, 435, 436, 437, 438, 439, 440, 441, 442, 443, 444, 445, 446, 447, 448, 449, 450, 451, 452, 453, 454, 455, 456, 457, 458, 459, 460, 461, 462, 463, 464, 465, 466, 467, 468, 469, 470, 471, 472, 473, 474, 475, 476, 477, 478, 479, 480, 481, 482, 483, 484, 485, 486, 487, 488, 489, 490, 491, 492, 493, 494, 495, 496, 497, 498, 499], \"y\": [null, null, null, null, null, null, null, null, null, null, null, null, null, null, null, null, null, null, null, null, null, null, null, null, null, null, null, null, null, null, null, null, null, null, null, null, null, null, null, null, 0.6225225225225225, null, null, null, null, null, null, null, null, null, null, null, null, null, null, null, null, null, null, null, null, null, null, null, null, null, null, null, null, null, null, null, null, null, null, null, null, null, null, null, null, null, null, null, null, null, null, null, null, null, null, null, null, null, null, null, null, null, null, null, null, null, null, null, null, null, null, null, null, null, null, null, null, null, null, null, null, null, null, null, null, null, null, null, null, null, null, null, null, null, null, null, null, null, null, null, null, null, null, null, null, null, null, null, null, null, null, null, null, null, null, null, null, null, null, null, null, null, null, null, null, null, null, null, null, null, null, null, null, null, null, null, null, null, null, null, null, null, null, null, null, null, null, null, null, null, null, null, null, null, null, null, null, null, null, null, null, null, null, null, null, null, null, null, null, null, null, null, null, null, null, null, null, null, null, null, null, null, null, null, null, null, null, null, null, null, null, null, null, null, null, null, null, null, null, null, null, null, null, null, null, null, null, null, null, null, null, null, null, null, null, null, null, null, null, null, null, null, null, null, null, null, null, null, null, null, null, null, null, null, null, null, null, null, null, null, null, null, null, null, null, null, null, null, null, null, null, null, null, null, null, null, null, null, null, null, null, null, null, null, null, null, null, null, null, null, null, null, null, null, null, null, null, null, null, null, null, null, null, null, null, null, null, null, null, null, null, null, null, null, null, null, null, null, null, null, null, null, null, null, null, null, null, null, null, null, null, null, null, null, null, null, null, null, null, null, null, null, null, null, null, null, null, null, null, null, null, null, null, null, null, null, null, null, null, null, null, null, null, null, null, null, null, null, null, null, null, null, null, null, null, null, null, null, null, null, null, null, null, null, null, null, null, null, null, null, null, null, null, null, null, null, null, null, null, null, null, null, null, null, null, null, null, null, null, null, null, null, null, null, null, null, null, null, null, null, null, null, null, null, null, null, null, null, null, null, null, null, null, null, null, null, null, null, null, null, null, null, null, null, null, null, null, null, null, null, null, null, null, null, null, null, null, null, null, null, null, null, null, null, null, null, null, null, null, null, null, null, null, null, null, null, null, null, null, null, null, null, null, null]}],\n",
       "                        {\"template\": {\"data\": {\"bar\": [{\"error_x\": {\"color\": \"#2a3f5f\"}, \"error_y\": {\"color\": \"#2a3f5f\"}, \"marker\": {\"line\": {\"color\": \"#E5ECF6\", \"width\": 0.5}}, \"type\": \"bar\"}], \"barpolar\": [{\"marker\": {\"line\": {\"color\": \"#E5ECF6\", \"width\": 0.5}}, \"type\": \"barpolar\"}], \"carpet\": [{\"aaxis\": {\"endlinecolor\": \"#2a3f5f\", \"gridcolor\": \"white\", \"linecolor\": \"white\", \"minorgridcolor\": \"white\", \"startlinecolor\": \"#2a3f5f\"}, \"baxis\": {\"endlinecolor\": \"#2a3f5f\", \"gridcolor\": \"white\", \"linecolor\": \"white\", \"minorgridcolor\": \"white\", \"startlinecolor\": \"#2a3f5f\"}, \"type\": \"carpet\"}], \"choropleth\": [{\"colorbar\": {\"outlinewidth\": 0, \"ticks\": \"\"}, \"type\": \"choropleth\"}], \"contour\": [{\"colorbar\": {\"outlinewidth\": 0, \"ticks\": \"\"}, \"colorscale\": [[0.0, \"#0d0887\"], [0.1111111111111111, \"#46039f\"], [0.2222222222222222, \"#7201a8\"], [0.3333333333333333, \"#9c179e\"], [0.4444444444444444, \"#bd3786\"], [0.5555555555555556, \"#d8576b\"], [0.6666666666666666, \"#ed7953\"], [0.7777777777777778, \"#fb9f3a\"], [0.8888888888888888, \"#fdca26\"], [1.0, \"#f0f921\"]], \"type\": \"contour\"}], \"contourcarpet\": [{\"colorbar\": {\"outlinewidth\": 0, \"ticks\": \"\"}, \"type\": \"contourcarpet\"}], \"heatmap\": [{\"colorbar\": {\"outlinewidth\": 0, \"ticks\": \"\"}, \"colorscale\": [[0.0, \"#0d0887\"], [0.1111111111111111, \"#46039f\"], [0.2222222222222222, \"#7201a8\"], [0.3333333333333333, \"#9c179e\"], [0.4444444444444444, \"#bd3786\"], [0.5555555555555556, \"#d8576b\"], [0.6666666666666666, \"#ed7953\"], [0.7777777777777778, \"#fb9f3a\"], [0.8888888888888888, \"#fdca26\"], [1.0, \"#f0f921\"]], \"type\": \"heatmap\"}], \"heatmapgl\": [{\"colorbar\": {\"outlinewidth\": 0, \"ticks\": \"\"}, \"colorscale\": [[0.0, \"#0d0887\"], [0.1111111111111111, \"#46039f\"], [0.2222222222222222, \"#7201a8\"], [0.3333333333333333, \"#9c179e\"], [0.4444444444444444, \"#bd3786\"], [0.5555555555555556, \"#d8576b\"], [0.6666666666666666, \"#ed7953\"], [0.7777777777777778, \"#fb9f3a\"], [0.8888888888888888, \"#fdca26\"], [1.0, \"#f0f921\"]], \"type\": \"heatmapgl\"}], \"histogram\": [{\"marker\": {\"colorbar\": {\"outlinewidth\": 0, \"ticks\": \"\"}}, \"type\": \"histogram\"}], \"histogram2d\": [{\"colorbar\": {\"outlinewidth\": 0, \"ticks\": \"\"}, \"colorscale\": [[0.0, \"#0d0887\"], [0.1111111111111111, \"#46039f\"], [0.2222222222222222, \"#7201a8\"], [0.3333333333333333, \"#9c179e\"], [0.4444444444444444, \"#bd3786\"], [0.5555555555555556, \"#d8576b\"], [0.6666666666666666, \"#ed7953\"], [0.7777777777777778, \"#fb9f3a\"], [0.8888888888888888, \"#fdca26\"], [1.0, \"#f0f921\"]], \"type\": \"histogram2d\"}], \"histogram2dcontour\": [{\"colorbar\": {\"outlinewidth\": 0, \"ticks\": \"\"}, \"colorscale\": [[0.0, \"#0d0887\"], [0.1111111111111111, \"#46039f\"], [0.2222222222222222, \"#7201a8\"], [0.3333333333333333, \"#9c179e\"], [0.4444444444444444, \"#bd3786\"], [0.5555555555555556, \"#d8576b\"], [0.6666666666666666, \"#ed7953\"], [0.7777777777777778, \"#fb9f3a\"], [0.8888888888888888, \"#fdca26\"], [1.0, \"#f0f921\"]], \"type\": \"histogram2dcontour\"}], \"mesh3d\": [{\"colorbar\": {\"outlinewidth\": 0, \"ticks\": \"\"}, \"type\": \"mesh3d\"}], \"parcoords\": [{\"line\": {\"colorbar\": {\"outlinewidth\": 0, \"ticks\": \"\"}}, \"type\": \"parcoords\"}], \"pie\": [{\"automargin\": true, \"type\": \"pie\"}], \"scatter\": [{\"marker\": {\"colorbar\": {\"outlinewidth\": 0, \"ticks\": \"\"}}, \"type\": \"scatter\"}], \"scatter3d\": [{\"line\": {\"colorbar\": {\"outlinewidth\": 0, \"ticks\": \"\"}}, \"marker\": {\"colorbar\": {\"outlinewidth\": 0, \"ticks\": \"\"}}, \"type\": \"scatter3d\"}], \"scattercarpet\": [{\"marker\": {\"colorbar\": {\"outlinewidth\": 0, \"ticks\": \"\"}}, \"type\": \"scattercarpet\"}], \"scattergeo\": [{\"marker\": {\"colorbar\": {\"outlinewidth\": 0, \"ticks\": \"\"}}, \"type\": \"scattergeo\"}], \"scattergl\": [{\"marker\": {\"colorbar\": {\"outlinewidth\": 0, \"ticks\": \"\"}}, \"type\": \"scattergl\"}], \"scattermapbox\": [{\"marker\": {\"colorbar\": {\"outlinewidth\": 0, \"ticks\": \"\"}}, \"type\": \"scattermapbox\"}], \"scatterpolar\": [{\"marker\": {\"colorbar\": {\"outlinewidth\": 0, \"ticks\": \"\"}}, \"type\": \"scatterpolar\"}], \"scatterpolargl\": [{\"marker\": {\"colorbar\": {\"outlinewidth\": 0, \"ticks\": \"\"}}, \"type\": \"scatterpolargl\"}], \"scatterternary\": [{\"marker\": {\"colorbar\": {\"outlinewidth\": 0, \"ticks\": \"\"}}, \"type\": \"scatterternary\"}], \"surface\": [{\"colorbar\": {\"outlinewidth\": 0, \"ticks\": \"\"}, \"colorscale\": [[0.0, \"#0d0887\"], [0.1111111111111111, \"#46039f\"], [0.2222222222222222, \"#7201a8\"], [0.3333333333333333, \"#9c179e\"], [0.4444444444444444, \"#bd3786\"], [0.5555555555555556, \"#d8576b\"], [0.6666666666666666, \"#ed7953\"], [0.7777777777777778, \"#fb9f3a\"], [0.8888888888888888, \"#fdca26\"], [1.0, \"#f0f921\"]], \"type\": \"surface\"}], \"table\": [{\"cells\": {\"fill\": {\"color\": \"#EBF0F8\"}, \"line\": {\"color\": \"white\"}}, \"header\": {\"fill\": {\"color\": \"#C8D4E3\"}, \"line\": {\"color\": \"white\"}}, \"type\": \"table\"}]}, \"layout\": {\"annotationdefaults\": {\"arrowcolor\": \"#2a3f5f\", \"arrowhead\": 0, \"arrowwidth\": 1}, \"coloraxis\": {\"colorbar\": {\"outlinewidth\": 0, \"ticks\": \"\"}}, \"colorscale\": {\"diverging\": [[0, \"#8e0152\"], [0.1, \"#c51b7d\"], [0.2, \"#de77ae\"], [0.3, \"#f1b6da\"], [0.4, \"#fde0ef\"], [0.5, \"#f7f7f7\"], [0.6, \"#e6f5d0\"], [0.7, \"#b8e186\"], [0.8, \"#7fbc41\"], [0.9, \"#4d9221\"], [1, \"#276419\"]], \"sequential\": [[0.0, \"#0d0887\"], [0.1111111111111111, \"#46039f\"], [0.2222222222222222, \"#7201a8\"], [0.3333333333333333, \"#9c179e\"], [0.4444444444444444, \"#bd3786\"], [0.5555555555555556, \"#d8576b\"], [0.6666666666666666, \"#ed7953\"], [0.7777777777777778, \"#fb9f3a\"], [0.8888888888888888, \"#fdca26\"], [1.0, \"#f0f921\"]], \"sequentialminus\": [[0.0, \"#0d0887\"], [0.1111111111111111, \"#46039f\"], [0.2222222222222222, \"#7201a8\"], [0.3333333333333333, \"#9c179e\"], [0.4444444444444444, \"#bd3786\"], [0.5555555555555556, \"#d8576b\"], [0.6666666666666666, \"#ed7953\"], [0.7777777777777778, \"#fb9f3a\"], [0.8888888888888888, \"#fdca26\"], [1.0, \"#f0f921\"]]}, \"colorway\": [\"#636efa\", \"#EF553B\", \"#00cc96\", \"#ab63fa\", \"#FFA15A\", \"#19d3f3\", \"#FF6692\", \"#B6E880\", \"#FF97FF\", \"#FECB52\"], \"font\": {\"color\": \"#2a3f5f\"}, \"geo\": {\"bgcolor\": \"white\", \"lakecolor\": \"white\", \"landcolor\": \"#E5ECF6\", \"showlakes\": true, \"showland\": true, \"subunitcolor\": \"white\"}, \"hoverlabel\": {\"align\": \"left\"}, \"hovermode\": \"closest\", \"mapbox\": {\"style\": \"light\"}, \"paper_bgcolor\": \"white\", \"plot_bgcolor\": \"#E5ECF6\", \"polar\": {\"angularaxis\": {\"gridcolor\": \"white\", \"linecolor\": \"white\", \"ticks\": \"\"}, \"bgcolor\": \"#E5ECF6\", \"radialaxis\": {\"gridcolor\": \"white\", \"linecolor\": \"white\", \"ticks\": \"\"}}, \"scene\": {\"xaxis\": {\"backgroundcolor\": \"#E5ECF6\", \"gridcolor\": \"white\", \"gridwidth\": 2, \"linecolor\": \"white\", \"showbackground\": true, \"ticks\": \"\", \"zerolinecolor\": \"white\"}, \"yaxis\": {\"backgroundcolor\": \"#E5ECF6\", \"gridcolor\": \"white\", \"gridwidth\": 2, \"linecolor\": \"white\", \"showbackground\": true, \"ticks\": \"\", \"zerolinecolor\": \"white\"}, \"zaxis\": {\"backgroundcolor\": \"#E5ECF6\", \"gridcolor\": \"white\", \"gridwidth\": 2, \"linecolor\": \"white\", \"showbackground\": true, \"ticks\": \"\", \"zerolinecolor\": \"white\"}}, \"shapedefaults\": {\"line\": {\"color\": \"#2a3f5f\"}}, \"ternary\": {\"aaxis\": {\"gridcolor\": \"white\", \"linecolor\": \"white\", \"ticks\": \"\"}, \"baxis\": {\"gridcolor\": \"white\", \"linecolor\": \"white\", \"ticks\": \"\"}, \"bgcolor\": \"#E5ECF6\", \"caxis\": {\"gridcolor\": \"white\", \"linecolor\": \"white\", \"ticks\": \"\"}}, \"title\": {\"x\": 0.05}, \"xaxis\": {\"automargin\": true, \"gridcolor\": \"white\", \"linecolor\": \"white\", \"ticks\": \"\", \"title\": {\"standoff\": 15}, \"zerolinecolor\": \"white\", \"zerolinewidth\": 2}, \"yaxis\": {\"automargin\": true, \"gridcolor\": \"white\", \"linecolor\": \"white\", \"ticks\": \"\", \"title\": {\"standoff\": 15}, \"zerolinecolor\": \"white\", \"zerolinewidth\": 2}}}, \"title\": {\"text\": \"Scores\"}},\n",
       "                        {\"responsive\": true}\n",
       "                    ).then(function(){\n",
       "                            \n",
       "var gd = document.getElementById('a40147be-5f49-4f3d-a573-bd575da7562a');\n",
       "var x = new MutationObserver(function (mutations, observer) {{\n",
       "        var display = window.getComputedStyle(gd).display;\n",
       "        if (!display || display === 'none') {{\n",
       "            console.log([gd, 'removed!']);\n",
       "            Plotly.purge(gd);\n",
       "            observer.disconnect();\n",
       "        }}\n",
       "}});\n",
       "\n",
       "// Listen for the removal of the full notebook cells\n",
       "var notebookContainer = gd.closest('#notebook-container');\n",
       "if (notebookContainer) {{\n",
       "    x.observe(notebookContainer, {childList: true});\n",
       "}}\n",
       "\n",
       "// Listen for the clearing of the current output cell\n",
       "var outputEl = gd.closest('.output');\n",
       "if (outputEl) {{\n",
       "    x.observe(outputEl, {childList: true});\n",
       "}}\n",
       "\n",
       "                        })\n",
       "                };\n",
       "                });\n",
       "            </script>\n",
       "        </div>"
      ]
     },
     "metadata": {},
     "output_type": "display_data"
    }
   ],
   "source": [
    "fig = go.Figure()\n",
    "\n",
    "fig.add_trace(go.Scatter(x=np.arange(1, 500), y=scores, name='Scores'))\n",
    "fig.add_trace(go.Scatter(x=np.arange(1, 500), y=maxScore, name='Max Score', mode='markers', marker_size=10))\n",
    "fig.update_layout(title='Scores')\n",
    "fig.show()"
   ]
  },
  {
   "cell_type": "markdown",
   "metadata": {},
   "source": [
    "## Using the classifier with the best K value"
   ]
  },
  {
   "cell_type": "code",
   "execution_count": 124,
   "metadata": {},
   "outputs": [],
   "source": [
    "classifier = KNeighborsClassifier(41)"
   ]
  },
  {
   "cell_type": "code",
   "execution_count": 125,
   "metadata": {},
   "outputs": [
    {
     "data": {
      "text/plain": [
       "KNeighborsClassifier(algorithm='auto', leaf_size=30, metric='minkowski',\n",
       "                     metric_params=None, n_jobs=None, n_neighbors=41, p=2,\n",
       "                     weights='uniform')"
      ]
     },
     "execution_count": 125,
     "metadata": {},
     "output_type": "execute_result"
    }
   ],
   "source": [
    "classifier.fit(train_data, train_labels)"
   ]
  },
  {
   "cell_type": "code",
   "execution_count": 126,
   "metadata": {},
   "outputs": [
    {
     "data": {
      "text/plain": [
       "0.6225225225225225"
      ]
     },
     "execution_count": 126,
     "metadata": {},
     "output_type": "execute_result"
    }
   ],
   "source": [
    "classifier.score(test_data, test_labels)"
   ]
  }
 ],
 "metadata": {
  "kernelspec": {
   "display_name": "Python 3",
   "language": "python",
   "name": "python3"
  },
  "language_info": {
   "codemirror_mode": {
    "name": "ipython",
    "version": 3
   },
   "file_extension": ".py",
   "mimetype": "text/x-python",
   "name": "python",
   "nbconvert_exporter": "python",
   "pygments_lexer": "ipython3",
   "version": "3.7.4"
  }
 },
 "nbformat": 4,
 "nbformat_minor": 2
}
